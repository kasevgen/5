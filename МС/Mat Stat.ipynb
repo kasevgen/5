{
 "cells": [
  {
   "cell_type": "markdown",
   "metadata": {},
   "source": [
    "# Критерий Хи-квадрат для проверки нормальности"
   ]
  },
  {
   "cell_type": "code",
   "execution_count": 76,
   "metadata": {},
   "outputs": [],
   "source": [
    "import numpy as np\n",
    "import matplotlib.pyplot as plt\n",
    "%matplotlib inline"
   ]
  },
  {
   "cell_type": "code",
   "execution_count": 77,
   "metadata": {},
   "outputs": [],
   "source": [
    "with open(\"C:\\\\Users\\\\Evgeny\\\\Dropbox\\\\5 семестр\\\\ТВ и Мат Стат\\\\11.7.txt\") as file:\n",
    "    a = np.array(list(map(float, file.read().replace(',', '.').split())))"
   ]
  },
  {
   "cell_type": "code",
   "execution_count": 78,
   "metadata": {},
   "outputs": [
    {
     "data": {
      "text/plain": [
       "100"
      ]
     },
     "execution_count": 78,
     "metadata": {},
     "output_type": "execute_result"
    }
   ],
   "source": [
    "len(a)"
   ]
  },
  {
   "cell_type": "code",
   "execution_count": 79,
   "metadata": {},
   "outputs": [
    {
     "data": {
      "text/plain": [
       "1194.4200000000003"
      ]
     },
     "execution_count": 79,
     "metadata": {},
     "output_type": "execute_result"
    }
   ],
   "source": [
    "sum(a)"
   ]
  },
  {
   "cell_type": "code",
   "execution_count": 80,
   "metadata": {},
   "outputs": [
    {
     "data": {
      "text/plain": [
       "array([10.4 , 10.53, 10.8 , 10.85, 10.98, 10.99, 11.03, 11.13, 11.3 ,\n",
       "       11.32, 11.34, 11.38, 11.38, 11.39, 11.4 , 11.47, 11.5 , 11.55,\n",
       "       11.56, 11.57, 11.57, 11.6 , 11.62, 11.62, 11.65, 11.68, 11.7 ,\n",
       "       11.71, 11.72, 11.72, 11.74, 11.75, 11.79, 11.79, 11.81, 11.81,\n",
       "       11.81, 11.86, 11.87, 11.88, 11.89, 11.89, 11.9 , 11.92, 11.92,\n",
       "       11.92, 11.93, 11.94, 11.96, 11.97, 11.98, 11.98, 11.98, 11.99,\n",
       "       12.  , 12.  , 12.05, 12.07, 12.08, 12.1 , 12.1 , 12.1 , 12.1 ,\n",
       "       12.11, 12.11, 12.11, 12.15, 12.15, 12.15, 12.16, 12.17, 12.18,\n",
       "       12.19, 12.19, 12.23, 12.36, 12.37, 12.38, 12.39, 12.39, 12.42,\n",
       "       12.42, 12.42, 12.42, 12.44, 12.45, 12.45, 12.45, 12.45, 12.46,\n",
       "       12.58, 12.6 , 12.67, 12.7 , 12.77, 12.86, 12.88, 12.93, 12.95,\n",
       "       12.97])"
      ]
     },
     "execution_count": 80,
     "metadata": {},
     "output_type": "execute_result"
    }
   ],
   "source": [
    "b = np.sort(a)\n",
    "b"
   ]
  },
  {
   "cell_type": "markdown",
   "metadata": {},
   "source": [
    "# Равночастотные интервалы"
   ]
  },
  {
   "cell_type": "code",
   "execution_count": 81,
   "metadata": {},
   "outputs": [
    {
     "data": {
      "text/plain": [
       "10"
      ]
     },
     "execution_count": 81,
     "metadata": {},
     "output_type": "execute_result"
    }
   ],
   "source": [
    "ni = 10\n",
    "n = int(len(a) / ni)\n",
    "n"
   ]
  },
  {
   "cell_type": "code",
   "execution_count": 82,
   "metadata": {},
   "outputs": [],
   "source": [
    "import math\n",
    "from scipy import stats"
   ]
  },
  {
   "cell_type": "markdown",
   "metadata": {},
   "source": [
    "## Интервалы вида ( ; ]( ; ]...( ; ]( ; )"
   ]
  },
  {
   "cell_type": "code",
   "execution_count": 83,
   "metadata": {},
   "outputs": [
    {
     "data": {
      "text/plain": [
       "[(-inf, 11.32),\n",
       " (11.32, 11.57),\n",
       " (11.57, 11.72),\n",
       " (11.72, 11.88),\n",
       " (11.88, 11.97),\n",
       " (11.97, 12.1),\n",
       " (12.1, 12.16),\n",
       " (12.16, 12.39),\n",
       " (12.39, 12.46),\n",
       " (12.46, inf)]"
      ]
     },
     "execution_count": 83,
     "metadata": {},
     "output_type": "execute_result"
    }
   ],
   "source": [
    "intervals = [(float('-inf'), b[9])]\n",
    "\n",
    "for i in range(1, n - 1):\n",
    "    intervals.append((b[i * ni - 1], b[i * ni + (ni - 1)]))\n",
    "\n",
    "intervals.append((b[len(b) - (ni + 1)], float('+inf')))\n",
    "intervals"
   ]
  },
  {
   "cell_type": "code",
   "execution_count": 85,
   "metadata": {},
   "outputs": [],
   "source": [
    "MX = sum(a) / len(a)\n",
    "DX = sum((a - MX) ** 2) / len(a)\n",
    "S = math.sqrt(DX)\n",
    "normal = stats.norm(loc=MX, scale=S)"
   ]
  },
  {
   "cell_type": "code",
   "execution_count": 86,
   "metadata": {},
   "outputs": [
    {
     "data": {
      "text/plain": [
       "[0.11053455639017529,\n",
       " 0.12106574901997796,\n",
       " 0.09854037259543313,\n",
       " 0.11978126594237304,\n",
       " 0.07024742716785409,\n",
       " 0.09981222376029597,\n",
       " 0.043891666616652,\n",
       " 0.1450546542490737,\n",
       " 0.035107269310600486,\n",
       " 0.1559648149475643]"
      ]
     },
     "execution_count": 86,
     "metadata": {},
     "output_type": "execute_result"
    }
   ],
   "source": [
    "l2 = []\n",
    "for i in range(n):\n",
    "    l2.append(normal.cdf(intervals[i][1]) - normal.cdf(intervals[i][0]))\n",
    "l2"
   ]
  },
  {
   "cell_type": "code",
   "execution_count": 87,
   "metadata": {},
   "outputs": [
    {
     "data": {
      "text/plain": [
       "1.0"
      ]
     },
     "execution_count": 87,
     "metadata": {},
     "output_type": "execute_result"
    }
   ],
   "source": [
    "sum(l2)"
   ]
  },
  {
   "cell_type": "markdown",
   "metadata": {},
   "source": [
    "\\begin{equation*}\n",
    "\\left( \\sum_{i=1}^n n_i ln(p_i(\\theta)) \\right) \\rightarrow \\max\\limits_{\\theta}\n",
    "\\end{equation*}"
   ]
  },
  {
   "cell_type": "markdown",
   "metadata": {},
   "source": [
    "$$\\forall i \\; n_i = 10$$"
   ]
  },
  {
   "cell_type": "markdown",
   "metadata": {},
   "source": [
    "\\begin{equation*}\n",
    "\\Rightarrow \\, \\sim \\left( \\sum_{i=1}^n ln(p_i(\\theta)) \\right) \\rightarrow \\max\\limits_{\\theta}\n",
    "\\end{equation*}"
   ]
  },
  {
   "cell_type": "code",
   "execution_count": null,
   "metadata": {},
   "outputs": [],
   "source": []
  }
 ],
 "metadata": {
  "kernelspec": {
   "display_name": "Python 3",
   "language": "python",
   "name": "python3"
  },
  "language_info": {
   "codemirror_mode": {
    "name": "ipython",
    "version": 3
   },
   "file_extension": ".py",
   "mimetype": "text/x-python",
   "name": "python",
   "nbconvert_exporter": "python",
   "pygments_lexer": "ipython3",
   "version": "3.7.3"
  }
 },
 "nbformat": 4,
 "nbformat_minor": 2
}

{
 "cells": [
  {
   "cell_type": "markdown",
   "metadata": {},
   "source": [
    "# Критерий Хи-квадрат для проверки нормальности"
   ]
  },
  {
   "cell_type": "code",
   "execution_count": 357,
   "metadata": {},
   "outputs": [],
   "source": [
    "import numpy as np\n",
    "import matplotlib.pyplot as plt\n",
    "%matplotlib inline"
   ]
  },
  {
   "cell_type": "code",
   "execution_count": 358,
   "metadata": {},
   "outputs": [],
   "source": [
    "with open(\"C:\\\\Users\\\\admin\\\\Dropbox\\\\5 семестр\\\\ТВ и Мат Стат\\\\11.7.txt\") as file:\n",
    "    a = np.array(list(map(float, file.read().replace(',', '.').split())))"
   ]
  },
  {
   "cell_type": "code",
   "execution_count": 359,
   "metadata": {},
   "outputs": [
    {
     "data": {
      "text/plain": [
       "100"
      ]
     },
     "execution_count": 359,
     "metadata": {},
     "output_type": "execute_result"
    }
   ],
   "source": [
    "len(a)"
   ]
  },
  {
   "cell_type": "code",
   "execution_count": 360,
   "metadata": {},
   "outputs": [
    {
     "data": {
      "text/plain": [
       "1194.4200000000003"
      ]
     },
     "execution_count": 360,
     "metadata": {},
     "output_type": "execute_result"
    }
   ],
   "source": [
    "sum(a)"
   ]
  },
  {
   "cell_type": "code",
   "execution_count": 361,
   "metadata": {},
   "outputs": [
    {
     "data": {
      "text/plain": [
       "array([10.4 , 10.53, 10.8 , 10.85, 10.98, 10.99, 11.03, 11.13, 11.3 ,\n",
       "       11.32, 11.34, 11.38, 11.38, 11.39, 11.4 , 11.47, 11.5 , 11.55,\n",
       "       11.56, 11.57, 11.57, 11.6 , 11.62, 11.62, 11.65, 11.68, 11.7 ,\n",
       "       11.71, 11.72, 11.72, 11.74, 11.75, 11.79, 11.79, 11.81, 11.81,\n",
       "       11.81, 11.86, 11.87, 11.88, 11.89, 11.89, 11.9 , 11.92, 11.92,\n",
       "       11.92, 11.93, 11.94, 11.96, 11.97, 11.98, 11.98, 11.98, 11.99,\n",
       "       12.  , 12.  , 12.05, 12.07, 12.08, 12.1 , 12.1 , 12.1 , 12.1 ,\n",
       "       12.11, 12.11, 12.11, 12.15, 12.15, 12.15, 12.16, 12.17, 12.18,\n",
       "       12.19, 12.19, 12.23, 12.36, 12.37, 12.38, 12.39, 12.39, 12.42,\n",
       "       12.42, 12.42, 12.42, 12.44, 12.45, 12.45, 12.45, 12.45, 12.46,\n",
       "       12.58, 12.6 , 12.67, 12.7 , 12.77, 12.86, 12.88, 12.93, 12.95,\n",
       "       12.97])"
      ]
     },
     "execution_count": 361,
     "metadata": {},
     "output_type": "execute_result"
    }
   ],
   "source": [
    "b = np.sort(a)\n",
    "b"
   ]
  },
  {
   "cell_type": "markdown",
   "metadata": {},
   "source": [
    "# Равночастотные интервалы"
   ]
  },
  {
   "cell_type": "code",
   "execution_count": 362,
   "metadata": {},
   "outputs": [
    {
     "data": {
      "text/plain": [
       "10"
      ]
     },
     "execution_count": 362,
     "metadata": {},
     "output_type": "execute_result"
    }
   ],
   "source": [
    "# ni - кол-во элементов выборки в интервале\n",
    "# n - кол-во интервалов\n",
    "ni = 10\n",
    "n = int(len(a) / ni)\n",
    "n"
   ]
  },
  {
   "cell_type": "code",
   "execution_count": 363,
   "metadata": {},
   "outputs": [],
   "source": [
    "import math\n",
    "from scipy import stats"
   ]
  },
  {
   "cell_type": "markdown",
   "metadata": {},
   "source": [
    "## Интервалы вида ( ; ]( ; ]...( ; ]( ; )"
   ]
  },
  {
   "cell_type": "code",
   "execution_count": 364,
   "metadata": {},
   "outputs": [
    {
     "data": {
      "text/plain": [
       "[(-inf, 11.32),\n",
       " (11.32, 11.57),\n",
       " (11.57, 11.72),\n",
       " (11.72, 11.88),\n",
       " (11.88, 11.97),\n",
       " (11.97, 12.1),\n",
       " (12.1, 12.16),\n",
       " (12.16, 12.39),\n",
       " (12.39, 12.46),\n",
       " (12.46, inf)]"
      ]
     },
     "execution_count": 364,
     "metadata": {},
     "output_type": "execute_result"
    }
   ],
   "source": [
    "# intervals - интервалы разбиения (n штук)\n",
    "intervals = [(float('-inf'), b[9])]\n",
    "\n",
    "for i in range(1, n - 1):\n",
    "    intervals.append((b[i * ni - 1], b[i * ni + (ni - 1)]))\n",
    "\n",
    "intervals.append((b[len(b) - (ni + 1)], float('+inf')))\n",
    "intervals"
   ]
  },
  {
   "cell_type": "code",
   "execution_count": 365,
   "metadata": {},
   "outputs": [],
   "source": [
    "MX = sum(a) / len(a)\n",
    "DX = sum((a - MX) ** 2) / len(a)\n",
    "S = math.sqrt(DX)\n",
    "normal = stats.norm(loc=MX, scale=S)"
   ]
  },
  {
   "cell_type": "code",
   "execution_count": 366,
   "metadata": {},
   "outputs": [
    {
     "data": {
      "text/plain": [
       "[0.11053455639017529,\n",
       " 0.12106574901997796,\n",
       " 0.09854037259543313,\n",
       " 0.11978126594237304,\n",
       " 0.07024742716785409,\n",
       " 0.09981222376029597,\n",
       " 0.043891666616652,\n",
       " 0.1450546542490737,\n",
       " 0.035107269310600486,\n",
       " 0.1559648149475643]"
      ]
     },
     "execution_count": 366,
     "metadata": {},
     "output_type": "execute_result"
    }
   ],
   "source": [
    "l2 = []\n",
    "for i in range(n):\n",
    "    l2.append(normal.cdf(intervals[i][1]) - normal.cdf(intervals[i][0]))\n",
    "l2"
   ]
  },
  {
   "cell_type": "code",
   "execution_count": 367,
   "metadata": {},
   "outputs": [
    {
     "data": {
      "text/plain": [
       "1.0"
      ]
     },
     "execution_count": 367,
     "metadata": {},
     "output_type": "execute_result"
    }
   ],
   "source": [
    "sum(l2)"
   ]
  },
  {
   "cell_type": "markdown",
   "metadata": {},
   "source": [
    "\\begin{equation*}\n",
    "\\left( \\sum_{i=1}^n n_i ln(p_i(\\theta)) \\right) \\rightarrow \\max\\limits_{\\theta}\n",
    "\\end{equation*}"
   ]
  },
  {
   "cell_type": "markdown",
   "metadata": {},
   "source": [
    "$$\\forall i \\; n_i = 10$$"
   ]
  },
  {
   "cell_type": "markdown",
   "metadata": {},
   "source": [
    "\\begin{equation*}\n",
    "\\Rightarrow \\, \\sim \\left( \\sum_{i=1}^n ln(p_i(\\theta)) \\right) \\rightarrow \\max\\limits_{\\theta}\n",
    "\\end{equation*}"
   ]
  },
  {
   "cell_type": "code",
   "execution_count": 368,
   "metadata": {},
   "outputs": [],
   "source": [
    "from scipy.integrate import quad\n",
    "import scipy.optimize as opt\n",
    "from scipy.optimize import Bounds\n",
    "from scipy.optimize import minimize"
   ]
  },
  {
   "cell_type": "code",
   "execution_count": 369,
   "metadata": {},
   "outputs": [
    {
     "data": {
      "text/plain": [
       "(-inf, 11.32)"
      ]
     },
     "execution_count": 369,
     "metadata": {},
     "output_type": "execute_result"
    }
   ],
   "source": [
    "intervals[0][0], intervals[0][1]"
   ]
  },
  {
   "cell_type": "code",
   "execution_count": 370,
   "metadata": {},
   "outputs": [
    {
     "data": {
      "text/plain": [
       "(11.944200000000002, 0.5100964222575962)"
      ]
     },
     "execution_count": 370,
     "metadata": {},
     "output_type": "execute_result"
    }
   ],
   "source": [
    "MX, S"
   ]
  },
  {
   "cell_type": "code",
   "execution_count": 371,
   "metadata": {},
   "outputs": [],
   "source": [
    "def integrand10(tt, MX, S):\n",
    "     return ((tt - MX) / S / S * math.e ** ((- (tt - MX) ** 2) / 2 / S / S))\n",
    "    \n",
    "def integrand11(tt, MX, S):\n",
    "     return ((tt - MX) ** 2 / S / S / S * math.e ** ((- (tt - MX) ** 2) / 2 / S / S))\n",
    "\n",
    "def jacobian(x, MX, S):\n",
    "    return np.array(quad(integrand10 / integrate2, intervals[0][0], intervals[0][1], args=(MX,S)), \n",
    "                    -1 / S + quad(integrand11 / integrate2, intervals[0][0], intervals[0][1], args=(MX,S)))"
   ]
  },
  {
   "cell_type": "code",
   "execution_count": 374,
   "metadata": {
    "scrolled": false
   },
   "outputs": [
    {
     "name": "stdout",
     "output_type": "stream",
     "text": [
      "L-BFGS-B :\n"
     ]
    },
    {
     "name": "stderr",
     "output_type": "stream",
     "text": [
      "C:\\ProgramData\\Anaconda3\\lib\\site-packages\\scipy\\integrate\\quadpack.py:385: IntegrationWarning: The algorithm does not converge.  Roundoff error is detected\n",
      "  in the extrapolation table.  It is assumed that the requested tolerance\n",
      "  cannot be achieved, and that the returned result (if full_output = 1) is \n",
      "  the best which can be obtained.\n",
      "  warnings.warn(msg, IntegrationWarning)\n",
      "C:\\ProgramData\\Anaconda3\\lib\\site-packages\\scipy\\integrate\\quadpack.py:385: IntegrationWarning: The integral is probably divergent, or slowly convergent.\n",
      "  warnings.warn(msg, IntegrationWarning)\n"
     ]
    },
    {
     "name": "stdout",
     "output_type": "stream",
     "text": [
      "      fun: -135.62466707718414\n",
      " hess_inv: <2x2 LbfgsInvHessProduct with dtype=float64>\n",
      "      jac: array([0.00074181, 0.00118234])\n",
      "  message: b'CONVERGENCE: REL_REDUCTION_OF_F_<=_FACTR*EPSMCH'\n",
      "     nfev: 174\n",
      "      nit: 21\n",
      "   status: 0\n",
      "  success: True\n",
      "        x: array([1.29700000e+01, 5.94463143e+04]) \n",
      "\n",
      "TNC :\n",
      "     fun: -127.13156848987846\n",
      "     jac: array([0.0003368 , 0.00046469])\n",
      " message: 'Converged (|f_n-f_(n-1)| ~= 0)'\n",
      "    nfev: 53\n",
      "     nit: 7\n",
      "  status: 1\n",
      " success: True\n",
      "       x: array([1.04000000e+01, 2.54249166e+04]) \n",
      "\n",
      "COBYLA :\n"
     ]
    },
    {
     "name": "stderr",
     "output_type": "stream",
     "text": [
      "C:\\ProgramData\\Anaconda3\\lib\\site-packages\\scipy\\optimize\\_minimize.py:524: RuntimeWarning: Method COBYLA cannot handle bounds.\n",
      "  RuntimeWarning)\n"
     ]
    },
    {
     "name": "stdout",
     "output_type": "stream",
     "text": [
      "     fun: -4156.924939521991\n",
      "   maxcv: 0.0\n",
      " message: 'Optimization terminated successfully.'\n",
      "    nfev: 56\n",
      "  status: 1\n",
      " success: True\n",
      "       x: array([14.23851082,  0.06934299]) \n",
      "\n",
      "SLSQP :\n",
      "     fun: -150.39703445608518\n",
      "     jac: array([-0.0001545 , -0.00214195])\n",
      " message: 'Optimization terminated successfully.'\n",
      "    nfev: 141\n",
      "     nit: 25\n",
      "    njev: 25\n",
      "  status: 0\n",
      " success: True\n",
      "       x: array([1.29678885e+01, 2.60436209e+05]) \n",
      "\n",
      "Nelder-Mead :\n",
      " final_simplex: (array([[65.481373  ,  1.4078591 ],\n",
      "       [65.48137224,  1.40785908],\n",
      "       [65.48137218,  1.40785908]]), array([-6695.22284681, -6695.22284677, -6695.22284671]))\n",
      "           fun: -6695.222846810255\n",
      "       message: 'Optimization terminated successfully.'\n",
      "          nfev: 304\n",
      "           nit: 153\n",
      "        status: 0\n",
      "       success: True\n",
      "             x: array([65.481373 ,  1.4078591]) \n",
      "\n",
      "Powell :\n",
      "   direc: array([[ 0.00000000e+00,  1.00000000e+00],\n",
      "       [ 7.02501506e-08, -5.48224348e-14]])\n",
      "     fun: array(-6311.34564175)\n",
      " message: 'Optimization terminated successfully.'\n",
      "    nfev: 221\n",
      "     nit: 2\n",
      "  status: 0\n",
      " success: True\n",
      "       x: array([30.94611973,  0.51008159]) \n",
      "\n",
      "CG :\n"
     ]
    },
    {
     "name": "stderr",
     "output_type": "stream",
     "text": [
      "C:\\ProgramData\\Anaconda3\\lib\\site-packages\\scipy\\integrate\\quadpack.py:385: IntegrationWarning: The algorithm does not converge.  Roundoff error is detected\n",
      "  in the extrapolation table.  It is assumed that the requested tolerance\n",
      "  cannot be achieved, and that the returned result (if full_output = 1) is \n",
      "  the best which can be obtained.\n",
      "  warnings.warn(msg, IntegrationWarning)\n",
      "C:\\ProgramData\\Anaconda3\\lib\\site-packages\\scipy\\integrate\\quadpack.py:385: IntegrationWarning: The algorithm does not converge.  Roundoff error is detected\n",
      "  in the extrapolation table.  It is assumed that the requested tolerance\n",
      "  cannot be achieved, and that the returned result (if full_output = 1) is \n",
      "  the best which can be obtained.\n",
      "  warnings.warn(msg, IntegrationWarning)\n",
      "C:\\ProgramData\\Anaconda3\\lib\\site-packages\\scipy\\integrate\\quadpack.py:385: IntegrationWarning: The integral is probably divergent, or slowly convergent.\n",
      "  warnings.warn(msg, IntegrationWarning)\n",
      "C:\\ProgramData\\Anaconda3\\lib\\site-packages\\scipy\\integrate\\quadpack.py:385: IntegrationWarning: The integral is probably divergent, or slowly convergent.\n",
      "  warnings.warn(msg, IntegrationWarning)\n"
     ]
    },
    {
     "name": "stdout",
     "output_type": "stream",
     "text": [
      "     fun: -156.76185325094787\n",
      "     jac: array([-0.00247192, -0.00033379])\n",
      " message: 'Desired error not necessarily achieved due to precision loss.'\n",
      "    nfev: 815\n",
      "     nit: 9\n",
      "    njev: 201\n",
      "  status: 2\n",
      " success: False\n",
      "       x: array([-62952.57226722, 488106.58529371]) \n",
      "\n",
      "BFGS :\n"
     ]
    },
    {
     "name": "stderr",
     "output_type": "stream",
     "text": [
      "C:\\ProgramData\\Anaconda3\\lib\\site-packages\\scipy\\integrate\\quadpack.py:385: IntegrationWarning: The algorithm does not converge.  Roundoff error is detected\n",
      "  in the extrapolation table.  It is assumed that the requested tolerance\n",
      "  cannot be achieved, and that the returned result (if full_output = 1) is \n",
      "  the best which can be obtained.\n",
      "  warnings.warn(msg, IntegrationWarning)\n",
      "C:\\ProgramData\\Anaconda3\\lib\\site-packages\\scipy\\integrate\\quadpack.py:385: IntegrationWarning: The integral is probably divergent, or slowly convergent.\n",
      "  warnings.warn(msg, IntegrationWarning)\n"
     ]
    },
    {
     "name": "stdout",
     "output_type": "stream",
     "text": [
      "      fun: -161.79817057126314\n",
      " hess_inv: array([[ 1.78000813e+07, -2.82184470e+08],\n",
      "       [-2.82184470e+08,  4.47346720e+09]])\n",
      "      jac: array([-4.90188599e-04, -1.90734863e-06])\n",
      "  message: 'Desired error not necessarily achieved due to precision loss.'\n",
      "     nfev: 460\n",
      "      nit: 21\n",
      "     njev: 112\n",
      "   status: 2\n",
      "  success: False\n",
      "        x: array([-51258.79794882, 812795.56046083]) \n",
      "\n"
     ]
    },
    {
     "name": "stderr",
     "output_type": "stream",
     "text": [
      "C:\\ProgramData\\Anaconda3\\lib\\site-packages\\scipy\\integrate\\quadpack.py:385: IntegrationWarning: The integral is probably divergent, or slowly convergent.\n",
      "  warnings.warn(msg, IntegrationWarning)\n"
     ]
    }
   ],
   "source": [
    "def integrand2(t, MX, S):\n",
    "    return  -(1 / math.sqrt(2 * math.pi) / S * math.e ** ((- (t - MX) ** 2) / 2 / S / S))\n",
    "\n",
    "\n",
    "def my_function2(parameters):\n",
    "    MX = parameters[0]\n",
    "    S = parameters[1]\n",
    "   \n",
    "  #  print([(quad(integrand2, intervals[i][0], intervals[i][1], args=(MX, S))[0], intervals[i], MX, S) for i in range(len(intervals))])\n",
    "\n",
    "    return sum([math.log(abs(quad(integrand2, intervals[i][0], intervals[i][1], args=(MX, S))[0])) \n",
    "            for i in range(len(intervals)) if abs(quad(integrand2, intervals[i][0], intervals[i][1], args=(MX, S))[0]) != 0.])\n",
    "\n",
    "MX_0 = MX\n",
    "S_0 = S\n",
    "\n",
    "# пределы мат ожидания от минимального до максимального по выборке\n",
    "# для дисперсии от 0 до inf\n",
    "bounds = Bounds([b[0], 0], [b[99], float('+inf')])\n",
    "\n",
    "for method in ['L-BFGS-B', 'TNC', 'COBYLA', 'SLSQP']:\n",
    "    print(method, ':')\n",
    "    res = opt.minimize(my_function2, np.asarray([MX_0, S_0]), method=method, tol=1e-6, options={'maxiter': 500}, bounds=bounds)\n",
    "    print(res, '\\n')\n",
    "\n",
    "for method in [\"Nelder-Mead\", \"Powell\", \"CG\", \"BFGS\"]:\n",
    "    print(method, ':')\n",
    "    res = opt.minimize(my_function2, np.asarray([MX_0, S_0]), method=method, tol=1e-6, options={'maxiter': 500})\n",
    "    print(res, '\\n')\n",
    "\n",
    "# res = opt.minimize(my_function2, np.asarray([MX_0, S_0]), method='Newton-CG', jac=jacobian, tol=1e-5, \n",
    "# options={'maxiter': 500}, bounds=bounds)"
   ]
  },
  {
   "cell_type": "code",
   "execution_count": 375,
   "metadata": {},
   "outputs": [],
   "source": [
    "MM, SS = 65.481373, 1.4078591"
   ]
  },
  {
   "cell_type": "code",
   "execution_count": 376,
   "metadata": {},
   "outputs": [
    {
     "data": {
      "text/plain": [
       "1.0"
      ]
     },
     "execution_count": 376,
     "metadata": {},
     "output_type": "execute_result"
    }
   ],
   "source": [
    "sum([stats.norm(loc=MM, scale=SS).cdf(intervals[i][1]) - stats.norm(loc=MM, scale=SS).cdf(intervals[i][0]) \n",
    "     for i in range(len(intervals))])"
   ]
  },
  {
   "cell_type": "code",
   "execution_count": 380,
   "metadata": {},
   "outputs": [
    {
     "data": {
      "image/png": "[encoded data removed]",
      "text/plain": [
       "<Figure size 432x288 with 1 Axes>"
      ]
     },
     "metadata": {
      "needs_background": "light"
     },
     "output_type": "display_data"
    }
   ],
   "source": [
    "x_axis = np.arange(10, 70, 0.04)\n",
    "\n",
    "plt.plot(x_axis, norm.cdf(x_axis, MM, SS))\n",
    "plt.plot(b, [0] * len(b), 'ro')\n",
    "plt.show()"
   ]
  },
  {
   "cell_type": "code",
   "execution_count": null,
   "metadata": {},
   "outputs": [],
   "source": []
  }
 ],
 "metadata": {
  "kernelspec": {
   "display_name": "Python 3",
   "language": "python",
   "name": "python3"
  },
  "language_info": {
   "codemirror_mode": {
    "name": "ipython",
    "version": 3
   },
   "file_extension": ".py",
   "mimetype": "text/x-python",
   "name": "python",
   "nbconvert_exporter": "python",
   "pygments_lexer": "ipython3",
   "version": "3.7.1"
  }
 },
 "nbformat": 4,
 "nbformat_minor": 2
}

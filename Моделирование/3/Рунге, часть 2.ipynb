{
 "cells": [
  {
   "cell_type": "markdown",
   "metadata": {},
   "source": [
    "## Вторая функция"
   ]
  },
  {
   "cell_type": "markdown",
   "metadata": {},
   "source": [
    "$$y' = -25y + \\cos(t) + 25\\sin(t), y(0) = 1, t \\in [0, 2]$$"
   ]
  },
  {
   "cell_type": "code",
   "execution_count": null,
   "metadata": {},
   "outputs": [],
   "source": [
    "import math\n",
    "def fun(t, y):\n",
    "    return -25 * y + math.cos(t) + 25 * math.sin(t)"
   ]
  },
  {
   "cell_type": "code",
   "execution_count": 26,
   "metadata": {},
   "outputs": [],
   "source": [
    "def Eiler1(count, h, t, y):\n",
    "    for i in range(count):\n",
    "        y[i + 1] = y[i] + h * fun(t[i], y[i])\n",
    "    return y"
   ]
  },
  {
   "cell_type": "code",
   "execution_count": 27,
   "metadata": {},
   "outputs": [],
   "source": [
    "def EilerN1(count, h, t, y):\n",
    "    # для сравнения (k + 1) - ого и (k) - того\n",
    "    eps = 1e-7\n",
    "    for i in range(count):\n",
    "        k = 0\n",
    "        y[i + 1][0] = y[i] + h * fun(t[i], y[i])   # (0) - начальный прогноз\n",
    "        y[i + 1].append(y[i] + h * fun(t[i + 1], y[i + 1][k]))   # (1)\n",
    "\n",
    "        while abs(y[i + 1][k + 1] - y[i + 1][k]) > eps:\n",
    "            k += 1\n",
    "            y[i + 1].append(y[i] + h * fun(t[i + 1], y[i + 1][k]))   # (k + 1) - ый\n",
    "        y[i + 1] = y[i + 1][k]   # сохраняем в i + 1 позицию лучший результат - (k) - тый\n",
    "    return y"
   ]
  },
  {
   "cell_type": "code",
   "execution_count": 28,
   "metadata": {},
   "outputs": [],
   "source": [
    "def Eiler2(count, h, t, y):\n",
    "    for i in range(count):\n",
    "        y[i + 1] = y[i] + h / 2 * (fun(t[i], y[i]) + fun(t[i + 1], y[i] + h * fun(t[i], y[i])))\n",
    "    return y"
   ]
  },
  {
   "cell_type": "code",
   "execution_count": 29,
   "metadata": {},
   "outputs": [],
   "source": [
    "def Trap(count, h, t, y):\n",
    "    # для сравнения (k + 1) - ого и (k) - того\n",
    "    eps = 1e-7\n",
    "    for i in range(count):\n",
    "        k = 0\n",
    "        y[i + 1][0] = y[i] + h * fun(t[i], y[i])  # (0) - начальный прогноз\n",
    "        y[i + 1].append(y[i] + h / 2 * (fun(t[i], y[i]) + fun(t[i + 1], y[i + 1][k])))  # (1)\n",
    "\n",
    "        while abs(y[i + 1][k + 1] - y[i + 1][k]) > eps:\n",
    "            k += 1\n",
    "            y[i + 1].append(y[i] + h / 2 * (fun(t[i], y[i]) + fun(t[i + 1], y[i + 1][k])))  # (k + 1) - ый\n",
    "        y[i + 1] = y[i + 1][k]  # сохраняем в i + 1 лучший результат - (k) - тый\n",
    "    return y"
   ]
  },
  {
   "cell_type": "code",
   "execution_count": 30,
   "metadata": {},
   "outputs": [],
   "source": [
    "def Runge_Kutt4(t, y, h, count):\n",
    "    k = [0] * 4\n",
    "    for i in range(count):\n",
    "        k[0] = fun(t[i], y[i])\n",
    "        k[1] = fun(t[i] + h / 2, y[i] + h * k[0] / 2)\n",
    "        k[2] = fun(t[i] + h / 2, y[i] + h * k[1] / 2)\n",
    "        k[3] = fun(t[i] + h, y[i] + h * k[2])\n",
    "        kn = (k[0] + 2 * k[1] + 2 * k[2] + k[3]) / 6\n",
    "        y[i + 1] = y[i] + h * kn\n",
    "    return y"
   ]
  },
  {
   "cell_type": "code",
   "execution_count": 31,
   "metadata": {},
   "outputs": [
    {
     "data": {
      "text/plain": [
       "(0.1, 0.05, 0.025)"
      ]
     },
     "execution_count": 31,
     "metadata": {},
     "output_type": "execute_result"
    }
   ],
   "source": [
    "t_max = 2\n",
    "t_min = 0\n",
    "h1 = 0.1\n",
    "h2 = 0.05\n",
    "h3 = 0.025\n",
    "h1, h2, h3"
   ]
  },
  {
   "cell_type": "code",
   "execution_count": 32,
   "metadata": {},
   "outputs": [
    {
     "data": {
      "text/plain": [
       "(20, 40, 80)"
      ]
     },
     "execution_count": 32,
     "metadata": {},
     "output_type": "execute_result"
    }
   ],
   "source": [
    "count1 = t_max / h1\n",
    "count1 = int(count1)\n",
    "count2 = t_max / h2\n",
    "count2 = int(count2)\n",
    "count3 = t_max / h3\n",
    "count3 = int(count3)\n",
    "y1 = [1] + [0] * count1\n",
    "y2 = [1] + [0] * count2\n",
    "y3 = [1] + [0] * count3\n",
    "t1 = [2 * i / count1 for i in range(count1 + 1)]\n",
    "t2 = [2 * i / count2 for i in range(count2 + 1)]\n",
    "t3 = [2 * i / count3 for i in range(count3 + 1)]\n",
    "count1, count2, count3"
   ]
  },
  {
   "cell_type": "code",
   "execution_count": 33,
   "metadata": {},
   "outputs": [],
   "source": [
    "y1 = Eiler1(count1, h1, t1, y1)\n",
    "y2 = Eiler1(count2, h2, t2, y2)\n",
    "y3 = Eiler1(count3, h3, t3, y3)"
   ]
  },
  {
   "cell_type": "code",
   "execution_count": null,
   "metadata": {
    "scrolled": true
   },
   "outputs": [],
   "source": []
  },
  {
   "cell_type": "code",
   "execution_count": 34,
   "metadata": {},
   "outputs": [],
   "source": [
    "y3 = [[0] for i in range(count3 + 1)]\n",
    "y3[0] = 1"
   ]
  },
  {
   "cell_type": "code",
   "execution_count": 35,
   "metadata": {
    "scrolled": true
   },
   "outputs": [],
   "source": [
    "#y1, y2 - не в эпсилон полоске\n",
    "y3 = EilerN1(count3, h3, t3, y3)"
   ]
  },
  {
   "cell_type": "code",
   "execution_count": 36,
   "metadata": {},
   "outputs": [
    {
     "data": {
      "text/plain": [
       "(0.2, 0.1, 0.05)"
      ]
     },
     "execution_count": 36,
     "metadata": {},
     "output_type": "execute_result"
    }
   ],
   "source": [
    "t_max = 2\n",
    "t_min = 0\n",
    "h1 = 0.2\n",
    "h2 = 0.1\n",
    "h3 = 0.05\n",
    "h1, h2, h3"
   ]
  },
  {
   "cell_type": "code",
   "execution_count": 37,
   "metadata": {},
   "outputs": [
    {
     "data": {
      "text/plain": [
       "(10, 20, 40)"
      ]
     },
     "execution_count": 37,
     "metadata": {},
     "output_type": "execute_result"
    }
   ],
   "source": [
    "count1 = t_max / h1\n",
    "count1 = int(count1)\n",
    "count2 = t_max / h2\n",
    "count2 = int(count2)\n",
    "count3 = t_max / h3\n",
    "count3 = int(count3)\n",
    "y1 = [1] + [0] * count1\n",
    "y2 = [1] + [0] * count2\n",
    "y3 = [1] + [0] * count3\n",
    "t1 = [2 * i / count1 for i in range(count1 + 1)]\n",
    "t2 = [2 * i / count2 for i in range(count2 + 1)]\n",
    "t3 = [2 * i / count3 for i in range(count3 + 1)]\n",
    "count1, count2, count3"
   ]
  },
  {
   "cell_type": "code",
   "execution_count": 38,
   "metadata": {
    "scrolled": true
   },
   "outputs": [],
   "source": [
    "y1 = Eiler2(count1, h1, t1, y1)\n",
    "y2 = Eiler2(count2, h2, t2, y2)\n",
    "y3 = Eiler2(count3, h3, t3, y3)"
   ]
  },
  {
   "cell_type": "code",
   "execution_count": null,
   "metadata": {
    "scrolled": true
   },
   "outputs": [],
   "source": [
    "#y1, y2 - не в эпсилон полоске\n",
    "y3 = [[0] for i in range(count3 + 1)]\n",
    "y3[0] = 1\n",
    "y3 = Trap(count3, h3, t3, y3)"
   ]
  },
  {
   "cell_type": "code",
   "execution_count": 43,
   "metadata": {},
   "outputs": [
    {
     "data": {
      "text/plain": [
       "(4, 8, 16)"
      ]
     },
     "execution_count": 43,
     "metadata": {},
     "output_type": "execute_result"
    }
   ],
   "source": [
    "t_max = 2\n",
    "t_min = 0\n",
    "h1 = 0.5   # 0.1\n",
    "h2 = 0.25\n",
    "h3 = 0.125\n",
    "count1 = t_max / h1\n",
    "count1 = int(count1)\n",
    "count2 = t_max / h2\n",
    "count2 = int(count2)\n",
    "count3 = t_max / h3\n",
    "count3 = int(count3)\n",
    "y1 = [1] + [0] * count1\n",
    "y2 = [1] + [0] * count2\n",
    "y3 = [1] + [0] * count3\n",
    "t1 = [2 * i / count1 for i in range(count1 + 1)]\n",
    "t2 = [2 * i / count2 for i in range(count2 + 1)]\n",
    "t3 = [2 * i / count3 for i in range(count3 + 1)]\n",
    "count1, count2, count3"
   ]
  },
  {
   "cell_type": "code",
   "execution_count": 44,
   "metadata": {},
   "outputs": [],
   "source": [
    "y1 = Runge_Kutt4(t1, y1, h1, count1)\n",
    "y2 = Runge_Kutt4(t2, y2, h2, count2)\n",
    "y3 = Runge_Kutt4(t3, y3, h3, count3)"
   ]
  },
  {
   "cell_type": "code",
   "execution_count": 18,
   "metadata": {},
   "outputs": [],
   "source": [
    "import numpy as np\n",
    "def function(t):\n",
    "    return np.e ** (-25 * t) + math.sin(t)"
   ]
  },
  {
   "cell_type": "code",
   "execution_count": 19,
   "metadata": {},
   "outputs": [],
   "source": [
    "# истинные значения функции\n",
    "a1 = [function(i) for i in t1]\n",
    "a2 = [function(i) for i in t2]\n",
    "a3 = [function(i) for i in t3]"
   ]
  },
  {
   "cell_type": "code",
   "execution_count": 20,
   "metadata": {},
   "outputs": [],
   "source": [
    "# абсолютная погрешность между практическим и теоретическим для каждой сетки\n",
    "b1 = list(abs(np.array(y1) - np.array(a1)))\n",
    "b2 = list(abs(np.array(y2) - np.array(a2)))\n",
    "b3 = list(abs(np.array(y3) - np.array(a3)))"
   ]
  },
  {
   "cell_type": "code",
   "execution_count": 21,
   "metadata": {},
   "outputs": [],
   "source": [
    "from matplotlib import pyplot as plt\n",
    "%matplotlib inline"
   ]
  },
  {
   "cell_type": "code",
   "execution_count": 31,
   "metadata": {
    "scrolled": true
   },
   "outputs": [
    {
     "data": {
      "text/plain": [
       "<matplotlib.legend.Legend at 0x506cef0>"
      ]
     },
     "execution_count": 31,
     "metadata": {},
     "output_type": "execute_result"
    },
    {
     "data": {
      "image/png": "[encoded data removed]",
      "text/plain": [
       "<Figure size 432x288 with 1 Axes>"
      ]
     },
     "metadata": {
      "needs_background": "light"
     },
     "output_type": "display_data"
    }
   ],
   "source": [
    "plt.subplots()\n",
    "plt.plot(t1, b1, label='h = 0.5', color='blue')\n",
    "plt.plot(t2, b2, label='h = 0.25', color='green')\n",
    "plt.plot(t3, b3, label='h = 0.125', color='black')\n",
    "plt.legend()"
   ]
  },
  {
   "cell_type": "code",
   "execution_count": 28,
   "metadata": {},
   "outputs": [
    {
     "data": {
      "text/plain": [
       "1266539933.553171"
      ]
     },
     "execution_count": 28,
     "metadata": {},
     "output_type": "execute_result"
    }
   ],
   "source": [
    "b2[count2] / b3[count3]"
   ]
  },
  {
   "cell_type": "code",
   "execution_count": 29,
   "metadata": {},
   "outputs": [
    {
     "data": {
      "text/plain": [
       "0.09074901142256965"
      ]
     },
     "execution_count": 29,
     "metadata": {},
     "output_type": "execute_result"
    }
   ],
   "source": [
    "b1[count1] / b2[count2]"
   ]
  },
  {
   "cell_type": "code",
   "execution_count": 30,
   "metadata": {},
   "outputs": [
    {
     "data": {
      "text/plain": [
       "0.9092974268256817"
      ]
     },
     "execution_count": 30,
     "metadata": {},
     "output_type": "execute_result"
    }
   ],
   "source": [
    "function(2)"
   ]
  },
  {
   "cell_type": "code",
   "execution_count": null,
   "metadata": {},
   "outputs": [],
   "source": []
  }
 ],
 "metadata": {
  "kernelspec": {
   "display_name": "Python 3",
   "language": "python",
   "name": "python3"
  },
  "language_info": {
   "codemirror_mode": {
    "name": "ipython",
    "version": 3
   },
   "file_extension": ".py",
   "mimetype": "text/x-python",
   "name": "python",
   "nbconvert_exporter": "python",
   "pygments_lexer": "ipython3",
   "version": "3.7.3"
  }
 },
 "nbformat": 4,
 "nbformat_minor": 2
}

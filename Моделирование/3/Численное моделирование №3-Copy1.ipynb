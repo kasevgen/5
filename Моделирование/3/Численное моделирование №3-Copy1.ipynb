{
 "cells": [
  {
   "cell_type": "markdown",
   "metadata": {},
   "source": [
    "# Лаба 3\n",
    "## Метод Рунге - Кутты"
   ]
  },
  {
   "cell_type": "code",
   "execution_count": 287,
   "metadata": {},
   "outputs": [],
   "source": [
    "def f(t, y):\n",
    "    return 2 * t * y"
   ]
  },
  {
   "cell_type": "code",
   "execution_count": 288,
   "metadata": {},
   "outputs": [],
   "source": [
    "def Runge_Kutt4(t, y, h, count):\n",
    "    k = [0] * 4\n",
    "    for i in range(count):\n",
    "        k[0] = f(t[i], y[i])\n",
    "        k[1] = f(t[i] + h / 2, y[i] + h * k[0] / 2)\n",
    "        k[2] = f(t[i] + h / 2, y[i] + h * k[1] / 2)\n",
    "        k[3] = f(t[i] + h, y[i] + h * k[2])\n",
    "        kn = (k[0] + 2 * k[1] + 2 * k[2] + k[3]) / 6\n",
    "        y[i + 1] = y[i] + h * kn\n",
    "    return y"
   ]
  },
  {
   "cell_type": "code",
   "execution_count": 328,
   "metadata": {},
   "outputs": [
    {
     "name": "stdout",
     "output_type": "stream",
     "text": [
      "0.1 0.05 0.025\n"
     ]
    }
   ],
   "source": [
    "t_max = 1\n",
    "t_min = 0\n",
    "h1 = 0.1\n",
    "h2 = 0.05\n",
    "h3 = 0.025\n",
    "print(h1, h2, h3)"
   ]
  },
  {
   "cell_type": "code",
   "execution_count": 329,
   "metadata": {},
   "outputs": [],
   "source": [
    "count1 = t_max / h1\n",
    "count1 = int(count1)\n",
    "count2 = t_max / h2\n",
    "count2 = int(count2)\n",
    "count3 = t_max / h3\n",
    "count3 = int(count3)\n",
    "y1 = [1] + [0] * count1\n",
    "y2 = [1] + [0] * count2\n",
    "y3 = [1] + [0] * count3\n",
    "t1 = [i / count1 for i in range(count1 + 1)]\n",
    "t2 = [i / count2 for i in range(count2 + 1)]\n",
    "t3 = [i / count3 for i in range(count3 + 1)]"
   ]
  },
  {
   "cell_type": "code",
   "execution_count": 330,
   "metadata": {},
   "outputs": [
    {
     "name": "stdout",
     "output_type": "stream",
     "text": [
      "[0.0, 0.1, 0.2, 0.3, 0.4, 0.5, 0.6, 0.7, 0.8, 0.9, 1.0]\n",
      "\n",
      "[0.0, 0.05, 0.1, 0.15, 0.2, 0.25, 0.3, 0.35, 0.4, 0.45, 0.5, 0.55, 0.6, 0.65, 0.7, 0.75, 0.8, 0.85, 0.9, 0.95, 1.0]\n",
      "\n",
      "[0.0, 0.025, 0.05, 0.075, 0.1, 0.125, 0.15, 0.175, 0.2, 0.225, 0.25, 0.275, 0.3, 0.325, 0.35, 0.375, 0.4, 0.425, 0.45, 0.475, 0.5, 0.525, 0.55, 0.575, 0.6, 0.625, 0.65, 0.675, 0.7, 0.725, 0.75, 0.775, 0.8, 0.825, 0.85, 0.875, 0.9, 0.925, 0.95, 0.975, 1.0]\n"
     ]
    }
   ],
   "source": [
    "print(t1, t2, t3, sep=\"\\n\\n\")"
   ]
  },
  {
   "cell_type": "code",
   "execution_count": 331,
   "metadata": {},
   "outputs": [],
   "source": [
    "# решения для 3 сеток\n",
    "y1 = Runge_Kutt4(t1, y1, h1, count1)\n",
    "y2 = Runge_Kutt4(t2, y2, h2, count2)\n",
    "y3 = Runge_Kutt4(t3, y3, h3, count3)"
   ]
  },
  {
   "cell_type": "code",
   "execution_count": 332,
   "metadata": {
    "scrolled": true
   },
   "outputs": [],
   "source": [
    "import numpy as np\n",
    "# истинные значения для каждой сетки (e ^ t ^ 2)\n",
    "a1 = [np.e ** ((i / count1) ** 2) for i in range(count1 + 1)]\n",
    "a2 = [np.e ** ((i / count2) ** 2) for i in range(count2 + 1)]\n",
    "a3 = [np.e ** ((i / count3) ** 2) for i in range(count3 + 1)]"
   ]
  },
  {
   "cell_type": "code",
   "execution_count": 333,
   "metadata": {},
   "outputs": [],
   "source": [
    "# абсолютная погрешность между практическим и теоретическим для каждой сетки\n",
    "b1 = list(abs(np.array(y1) - np.array(a1)))\n",
    "b2 = list(abs(np.array(y2) - np.array(a2)))\n",
    "b3 = list(abs(np.array(y3) - np.array(a3)))"
   ]
  },
  {
   "cell_type": "code",
   "execution_count": 334,
   "metadata": {},
   "outputs": [],
   "source": [
    "from matplotlib import pyplot as plt\n",
    "%matplotlib inline"
   ]
  },
  {
   "cell_type": "code",
   "execution_count": 375,
   "metadata": {},
   "outputs": [
    {
     "data": {
      "text/plain": [
       "<matplotlib.legend.Legend at 0x160c3230>"
      ]
     },
     "execution_count": 375,
     "metadata": {},
     "output_type": "execute_result"
    },
    {
     "data": {
      "image/png": "[encoded data removed]",
      "text/plain": [
       "<Figure size 864x576 with 1 Axes>"
      ]
     },
     "metadata": {
      "needs_background": "light"
     },
     "output_type": "display_data"
    }
   ],
   "source": [
    "plt.subplots(figsize=(12, 8))\n",
    "plt.plot(t1, b1, label='h = 0.1', color='blue')\n",
    "plt.plot(t2, b2, label='h = 0.05', color='green')\n",
    "plt.plot(t3, b3, label='h = 0.025', color='black')\n",
    "plt.legend()"
   ]
  },
  {
   "cell_type": "code",
   "execution_count": 336,
   "metadata": {},
   "outputs": [
    {
     "name": "stdout",
     "output_type": "stream",
     "text": [
      "1.1653075508988309e-05\n",
      "7.447471728205812e-07\n",
      "4.6923418040023535e-08\n"
     ]
    }
   ],
   "source": [
    "print(b1[count1], b2[count2], b3[count3], sep='\\n')"
   ]
  },
  {
   "cell_type": "code",
   "execution_count": 337,
   "metadata": {
    "scrolled": true
   },
   "outputs": [
    {
     "name": "stdout",
     "output_type": "stream",
     "text": [
      "15.647022149617046\n",
      "15.87154567864911\n"
     ]
    }
   ],
   "source": [
    "print(b1[count1] / b2[count2], b2[count2] / b3[count3], sep='\\n')"
   ]
  },
  {
   "cell_type": "markdown",
   "metadata": {},
   "source": [
    "### Дополнительно - сетка с шагом 0.2"
   ]
  },
  {
   "cell_type": "code",
   "execution_count": 352,
   "metadata": {},
   "outputs": [],
   "source": [
    "h4 = 0.2\n",
    "count4 = t_max / h4\n",
    "count4 = int(count4)\n",
    "y4 = [1] + [0] * count4\n",
    "t4 = [i / count4 for i in range(count4 + 1)]"
   ]
  },
  {
   "cell_type": "code",
   "execution_count": 353,
   "metadata": {},
   "outputs": [],
   "source": [
    "y4 = Runge_Kutt4(t4, y4, h4, count4)"
   ]
  },
  {
   "cell_type": "code",
   "execution_count": 354,
   "metadata": {},
   "outputs": [],
   "source": [
    "b4 = list(abs(np.array(y4) - np.array([np.e ** (t4[i] ** 2) for i in range(count4 + 1)])))"
   ]
  },
  {
   "cell_type": "code",
   "execution_count": 355,
   "metadata": {},
   "outputs": [
    {
     "data": {
      "text/plain": [
       "[<matplotlib.lines.Line2D at 0x13377cf0>]"
      ]
     },
     "execution_count": 355,
     "metadata": {},
     "output_type": "execute_result"
    },
    {
     "data": {
      "image/png": "[encoded data removed]",
      "text/plain": [
       "<Figure size 432x288 with 1 Axes>"
      ]
     },
     "metadata": {
      "needs_background": "light"
     },
     "output_type": "display_data"
    }
   ],
   "source": [
    "plt.plot(t4, b4, color='red')"
   ]
  },
  {
   "cell_type": "code",
   "execution_count": 356,
   "metadata": {},
   "outputs": [
    {
     "data": {
      "text/plain": [
       "[<matplotlib.lines.Line2D at 0x133b4e50>]"
      ]
     },
     "execution_count": 356,
     "metadata": {},
     "output_type": "execute_result"
    },
    {
     "data": {
      "image/png": "[encoded data removed]",
      "text/plain": [
       "<Figure size 432x288 with 1 Axes>"
      ]
     },
     "metadata": {
      "needs_background": "light"
     },
     "output_type": "display_data"
    }
   ],
   "source": [
    "plt.plot(t4, y4, 'bo')\n",
    "plt.plot(t3, a3, color='k')"
   ]
  },
  {
   "cell_type": "code",
   "execution_count": null,
   "metadata": {},
   "outputs": [],
   "source": []
  }
 ],
 "metadata": {
  "kernelspec": {
   "display_name": "Python 3",
   "language": "python",
   "name": "python3"
  },
  "language_info": {
   "codemirror_mode": {
    "name": "ipython",
    "version": 3
   },
   "file_extension": ".py",
   "mimetype": "text/x-python",
   "name": "python",
   "nbconvert_exporter": "python",
   "pygments_lexer": "ipython3",
   "version": "3.7.1"
  }
 },
 "nbformat": 4,
 "nbformat_minor": 2
}

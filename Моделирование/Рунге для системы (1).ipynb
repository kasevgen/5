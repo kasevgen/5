{
 "cells": [
  {
   "cell_type": "markdown",
   "metadata": {},
   "source": [
    "# Рунге для исходной системы"
   ]
  },
  {
   "cell_type": "code",
   "execution_count": 13,
   "metadata": {},
   "outputs": [],
   "source": [
    "import numpy as np\n",
    "import math\n",
    "size = 3            # размерность системы"
   ]
  },
  {
   "cell_type": "code",
   "execution_count": 14,
   "metadata": {},
   "outputs": [],
   "source": [
    "def fun(t, y):\n",
    "    k = [0] * size\n",
    "    k[0] = y[1] - y[0]          # y - x\n",
    "    k[1] = math.cos(t) - y[0]   # cos - x\n",
    "    k[2] = np.e ** y[0] * (1 + t * (y[1] - y[0]))   # (e ^ x) * (1 + t(y - x))\n",
    "    return k"
   ]
  },
  {
   "cell_type": "code",
   "execution_count": 15,
   "metadata": {},
   "outputs": [],
   "source": [
    "def answer(t):\n",
    "    k = [0] * size\n",
    "    k[0] = math.sin(t)\n",
    "    k[1] = math.sin(t) + math.cos(t)\n",
    "    k[2] = t * (np.e ** math.sin(t))\n",
    "    return k"
   ]
  },
  {
   "cell_type": "code",
   "execution_count": 16,
   "metadata": {},
   "outputs": [],
   "source": [
    "def Runge(t, y, h, count):  # t - значение узла, y - значения в точке t\n",
    "    k = [[0] for _ in range(4)]\n",
    "    y_temp = [0] * size\n",
    "    y_result = [0] * size\n",
    "    k[0] = fun(t, y)\n",
    "\n",
    "    for i in range(size):\n",
    "        y_temp[i] = y[i] + h / 2 * k[0][i]\n",
    "    k[1] = fun(t + h / 2, y_temp)\n",
    "\n",
    "    for i in range(size):\n",
    "        y_temp[i] = y[i] + h / 2 * k[1][i]\n",
    "    k[2] = fun(t + h / 2, y_temp)\n",
    "\n",
    "    for i in range(size):\n",
    "        y_temp[i] = y[i] + h * k[2][i]\n",
    "    k[3] = fun(t + h, y_temp)\n",
    "\n",
    "    for i in range(size):\n",
    "        y_result[i] = y[i] + h * (k[0][i] + 2 * k[1][i] + 2 * k[2][i] + k[3][i]) / 6\n",
    "\n",
    "    return y_result"
   ]
  },
  {
   "cell_type": "code",
   "execution_count": null,
   "metadata": {},
   "outputs": [],
   "source": []
  },
  {
   "cell_type": "code",
   "execution_count": 17,
   "metadata": {},
   "outputs": [],
   "source": [
    "t_min = 0\n",
    "t_max = math.pi\n",
    "count = 4           # количество узлов (кроме нулевого)\n",
    "h = (t_max - t_min) / count\n",
    "t = [(t_max - t_min) * i / count for i in range(count + 1)]\n",
    "\n",
    "result = [[0, 1, 0]]"
   ]
  },
  {
   "cell_type": "code",
   "execution_count": 18,
   "metadata": {},
   "outputs": [],
   "source": [
    "for i in range(count):\n",
    "    result.append(Runge(t[i], result[i], h, count))"
   ]
  },
  {
   "cell_type": "code",
   "execution_count": 19,
   "metadata": {
    "scrolled": true
   },
   "outputs": [
    {
     "name": "stdout",
     "output_type": "stream",
     "text": [
      "0\n",
      "0.707928544751102\n",
      "1.003929375288795\n",
      "0.713228585788697\n",
      "0.004917171292085\n"
     ]
    }
   ],
   "source": [
    "for i in result:\n",
    "    print(round(i[0], 15))"
   ]
  },
  {
   "cell_type": "code",
   "execution_count": 20,
   "metadata": {},
   "outputs": [
    {
     "name": "stdout",
     "output_type": "stream",
     "text": [
      "0.0\n",
      "0.707106781186548\n",
      "1.0\n",
      "0.707106781186548\n",
      "0.0\n"
     ]
    }
   ],
   "source": [
    "for i in t:\n",
    "    print(round(answer(i)[0], 15))"
   ]
  },
  {
   "cell_type": "code",
   "execution_count": 21,
   "metadata": {},
   "outputs": [],
   "source": [
    "b = [0] * (count + 1)\n",
    "for i in range(count + 1):\n",
    "    b[i] = np.array(result[i][0]) - np.array(answer(t[i])[0]) "
   ]
  },
  {
   "cell_type": "code",
   "execution_count": 22,
   "metadata": {},
   "outputs": [
    {
     "data": {
      "text/plain": [
       "[0.0,\n",
       " 0.0008217635645544341,\n",
       " 0.003929375288795001,\n",
       " 0.00612180460214895,\n",
       " 0.0049171712920848985]"
      ]
     },
     "execution_count": 22,
     "metadata": {},
     "output_type": "execute_result"
    }
   ],
   "source": [
    "from matplotlib import pyplot as plt\n",
    "%matplotlib inline\n",
    "b"
   ]
  },
  {
   "cell_type": "code",
   "execution_count": 25,
   "metadata": {},
   "outputs": [
    {
     "data": {
      "text/plain": [
       "([<matplotlib.axis.YTick at 0x1db0b1fef60>,\n",
       "  <matplotlib.axis.YTick at 0x1db0b1fe828>,\n",
       "  <matplotlib.axis.YTick at 0x1db0b1b2898>,\n",
       "  <matplotlib.axis.YTick at 0x1db0b2200b8>,\n",
       "  <matplotlib.axis.YTick at 0x1db0b220518>],\n",
       " <a list of 5 Text yticklabel objects>)"
      ]
     },
     "execution_count": 25,
     "metadata": {},
     "output_type": "execute_result"
    },
    {
     "data": {
      "image/png": "[encoded data removed]",
      "text/plain": [
       "<Figure size 432x288 with 1 Axes>"
      ]
     },
     "metadata": {
      "needs_background": "light"
     },
     "output_type": "display_data"
    }
   ],
   "source": [
    "plt.plot(t, b)\n",
    "plt.xticks(t)\n",
    "plt.yticks(b)"
   ]
  }
 ],
 "metadata": {
  "kernelspec": {
   "display_name": "Python 3",
   "language": "python",
   "name": "python3"
  },
  "language_info": {
   "codemirror_mode": {
    "name": "ipython",
    "version": 3
   },
   "file_extension": ".py",
   "mimetype": "text/x-python",
   "name": "python",
   "nbconvert_exporter": "python",
   "pygments_lexer": "ipython3",
   "version": "3.7.3"
  }
 },
 "nbformat": 4,
 "nbformat_minor": 2
}

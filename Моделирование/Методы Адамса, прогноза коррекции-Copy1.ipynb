{
 "cells": [
  {
   "cell_type": "markdown",
   "metadata": {},
   "source": [
    "$$y ' = 2ty, y(0) = 1, t \\in [0, 1]$$"
   ]
  },
  {
   "cell_type": "markdown",
   "metadata": {},
   "source": [
    "# Адамс 3 + Рунге 3"
   ]
  },
  {
   "cell_type": "code",
   "execution_count": 1,
   "metadata": {},
   "outputs": [],
   "source": [
    "import math\n",
    "def fun(t, y):\n",
    "    return 2 * t * y"
   ]
  },
  {
   "cell_type": "code",
   "execution_count": 2,
   "metadata": {},
   "outputs": [
    {
     "data": {
      "text/plain": [
       "0.1"
      ]
     },
     "execution_count": 2,
     "metadata": {},
     "output_type": "execute_result"
    }
   ],
   "source": [
    "t_max = 1\n",
    "t_min = 0\n",
    "h = 0.1 # 0.1, 0.05, 0.025\n",
    "h"
   ]
  },
  {
   "cell_type": "code",
   "execution_count": 3,
   "metadata": {},
   "outputs": [
    {
     "data": {
      "text/plain": [
       "10"
      ]
     },
     "execution_count": 3,
     "metadata": {},
     "output_type": "execute_result"
    }
   ],
   "source": [
    "count1 = t_max / h\n",
    "count1 = int(count1)\n",
    "y = [1] + [0] * count1\n",
    "t = [i / count1 for i in range(count1 + 1)]\n",
    "count1"
   ]
  },
  {
   "cell_type": "code",
   "execution_count": 4,
   "metadata": {},
   "outputs": [],
   "source": [
    "# Рунге - 3 для двух новых значений\n",
    "k = [0] * 3\n",
    "for i in range(2):\n",
    "    k[0] = fun(t[i], y[i])\n",
    "    k[1] = fun(t[i] + h / 2, y[i] + h / 2 * k[0])\n",
    "    k[2] = fun(t[i] + h, y[i] - h * k[0] + 2 * h * k[1])\n",
    "    y[i + 1] = y[i] + h / 6 * (k[0] + 4 * k[1] + k[2])"
   ]
  },
  {
   "cell_type": "code",
   "execution_count": 5,
   "metadata": {
    "scrolled": true
   },
   "outputs": [
    {
     "data": {
      "text/plain": [
       "[1, 1.0100666666666667, 1.0408440713777778, 0, 0, 0, 0, 0, 0, 0, 0]"
      ]
     },
     "execution_count": 5,
     "metadata": {},
     "output_type": "execute_result"
    }
   ],
   "source": [
    "y"
   ]
  },
  {
   "cell_type": "code",
   "execution_count": 6,
   "metadata": {},
   "outputs": [],
   "source": [
    "# Адамс 3\n",
    "for i in range(2, count1):\n",
    "    y[i + 1] = y[i] + h / 12 * (23 * fun(t[i], y[i]) \n",
    "    - 16 * fun(t[i - 1], y[i - 1]) + 5 * fun(t[i - 2], y[i - 2]))"
   ]
  },
  {
   "cell_type": "code",
   "execution_count": 7,
   "metadata": {
    "scrolled": true
   },
   "outputs": [
    {
     "name": "stdout",
     "output_type": "stream",
     "text": [
      "1\n",
      "1,0100666666666667\n",
      "1,0408440713777778\n",
      "1,093707005738963\n",
      "1,1723888498143513\n",
      "1,282005980849731\n",
      "1,4300116583425395\n",
      "1,6270598373085046\n",
      "1,888269277520219\n",
      "2,235121269245959\n",
      "2,698319151774498\n"
     ]
    }
   ],
   "source": [
    "for i in y:\n",
    "    print(str(i).replace(\".\", \",\"))"
   ]
  },
  {
   "cell_type": "markdown",
   "metadata": {},
   "source": [
    "# Адамс 4 + Рунге 4"
   ]
  },
  {
   "cell_type": "code",
   "execution_count": 8,
   "metadata": {},
   "outputs": [
    {
     "data": {
      "text/plain": [
       "0.1"
      ]
     },
     "execution_count": 8,
     "metadata": {},
     "output_type": "execute_result"
    }
   ],
   "source": [
    "t_max = 1\n",
    "t_min = 0\n",
    "h = 0.1 # 0.1, 0.05, 0.025\n",
    "h"
   ]
  },
  {
   "cell_type": "code",
   "execution_count": 9,
   "metadata": {},
   "outputs": [
    {
     "data": {
      "text/plain": [
       "10"
      ]
     },
     "execution_count": 9,
     "metadata": {},
     "output_type": "execute_result"
    }
   ],
   "source": [
    "count1 = t_max / h\n",
    "count1 = int(count1)\n",
    "y = [1] + [0] * count1\n",
    "t = [i / count1 for i in range(count1 + 1)]\n",
    "count1"
   ]
  },
  {
   "cell_type": "code",
   "execution_count": 10,
   "metadata": {},
   "outputs": [],
   "source": [
    "# Рунге - 4 для трех новых значений\n",
    "k = [0] * 4\n",
    "for i in range(3):\n",
    "    k[0] = fun(t[i], y[i])\n",
    "    k[1] = fun(t[i] + h / 2, y[i] + h / 2 * k[0])\n",
    "    k[2] = fun(t[i] + h / 2, y[i] + h / 2 * k[1])\n",
    "    k[3] = fun(t[i] + h, y[i] + h * k[2])\n",
    "    y[i + 1] = y[i] + h / 6 * (k[0] + 2* k[1] + 2 * k[2] + k[3])"
   ]
  },
  {
   "cell_type": "code",
   "execution_count": 11,
   "metadata": {
    "scrolled": true
   },
   "outputs": [
    {
     "data": {
      "text/plain": [
       "[1,\n",
       " 1.0100501666666666,\n",
       " 1.0408107697689215,\n",
       " 1.0941742654799747,\n",
       " 0,\n",
       " 0,\n",
       " 0,\n",
       " 0,\n",
       " 0,\n",
       " 0,\n",
       " 0]"
      ]
     },
     "execution_count": 11,
     "metadata": {},
     "output_type": "execute_result"
    }
   ],
   "source": [
    "y"
   ]
  },
  {
   "cell_type": "code",
   "execution_count": 12,
   "metadata": {},
   "outputs": [],
   "source": [
    "for i in range(3, count1):\n",
    "    y[i + 1] = y[i] + h / 24 * (55 * fun(t[i], y[i]) \n",
    "    - 59 * fun(t[i - 1], y[i - 1]) + 37 * fun(t[i - 2], y[i - 2]) \n",
    "    - 9 * fun(t[i - 3], y[i - 3]))"
   ]
  },
  {
   "cell_type": "code",
   "execution_count": 13,
   "metadata": {
    "scrolled": false
   },
   "outputs": [
    {
     "name": "stdout",
     "output_type": "stream",
     "text": [
      "1\n",
      "1,0100501666666666\n",
      "1,0408107697689215\n",
      "1,0941742654799747\n",
      "1,1734200480950827\n",
      "1,2837643073066352\n",
      "1,4327866429494032\n",
      "1,6313137958393686\n",
      "1,894732641601346\n",
      "2,2449484795420975\n",
      "2,713344716992624\n"
     ]
    }
   ],
   "source": [
    "for i in y:\n",
    "    print(str(i).replace(\".\", \",\"))"
   ]
  },
  {
   "cell_type": "markdown",
   "metadata": {},
   "source": [
    "# Адамс 3, с 3 - его значения сетки"
   ]
  },
  {
   "cell_type": "code",
   "execution_count": 14,
   "metadata": {},
   "outputs": [
    {
     "data": {
      "text/plain": [
       "0.1"
      ]
     },
     "execution_count": 14,
     "metadata": {},
     "output_type": "execute_result"
    }
   ],
   "source": [
    "t_max = 1\n",
    "t_min = 0\n",
    "h = 0.1 # 0.1, 0.05, 0.025\n",
    "h"
   ]
  },
  {
   "cell_type": "code",
   "execution_count": 15,
   "metadata": {},
   "outputs": [
    {
     "data": {
      "text/plain": [
       "10"
      ]
     },
     "execution_count": 15,
     "metadata": {},
     "output_type": "execute_result"
    }
   ],
   "source": [
    "count1 = t_max / h\n",
    "count1 = int(count1)\n",
    "y = [1]\n",
    "t = [i / count1 for i in range(count1 + 1)]\n",
    "count1"
   ]
  },
  {
   "cell_type": "code",
   "execution_count": 16,
   "metadata": {},
   "outputs": [],
   "source": [
    "import numpy as np\n",
    "for i in range(2):\n",
    "    y.append(np.e ** (t[i + 1] ** 2))"
   ]
  },
  {
   "cell_type": "code",
   "execution_count": 17,
   "metadata": {
    "scrolled": true
   },
   "outputs": [
    {
     "data": {
      "text/plain": [
       "[1, 1.010050167084168, 1.0408107741923882]"
      ]
     },
     "execution_count": 17,
     "metadata": {},
     "output_type": "execute_result"
    }
   ],
   "source": [
    "y"
   ]
  },
  {
   "cell_type": "code",
   "execution_count": 18,
   "metadata": {},
   "outputs": [],
   "source": [
    "for i in range(2, count1):\n",
    "    y.append(y[i] + h / 12 * (23 * fun(t[i], y[i]) \n",
    "    - 16 * fun(t[i - 1], y[i - 1]) + 5 * fun(t[i - 2], y[i - 2])))"
   ]
  },
  {
   "cell_type": "code",
   "execution_count": 19,
   "metadata": {
    "scrolled": false
   },
   "outputs": [
    {
     "name": "stdout",
     "output_type": "stream",
     "text": [
      "1\n",
      "1,010050167084168\n",
      "1,0408107741923882\n",
      "1,0936715957582268\n",
      "1,1723510060391968\n",
      "1,2819646122077553\n",
      "1,429965512130683\n",
      "1,6270073318276792\n",
      "1,888208342769187\n",
      "2,235049141550438\n",
      "2,6982320766178605\n"
     ]
    }
   ],
   "source": [
    "for i in y:\n",
    "    print(str(i).replace(\".\", \",\"))"
   ]
  },
  {
   "cell_type": "markdown",
   "metadata": {},
   "source": [
    "# Адамс 4, с 4 - ого значения сетки"
   ]
  },
  {
   "cell_type": "code",
   "execution_count": 20,
   "metadata": {},
   "outputs": [
    {
     "data": {
      "text/plain": [
       "0.1"
      ]
     },
     "execution_count": 20,
     "metadata": {},
     "output_type": "execute_result"
    }
   ],
   "source": [
    "t_max = 1\n",
    "t_min = 0\n",
    "h = 0.1 # 0.1, 0.05, 0.025\n",
    "h"
   ]
  },
  {
   "cell_type": "code",
   "execution_count": 21,
   "metadata": {},
   "outputs": [
    {
     "data": {
      "text/plain": [
       "10"
      ]
     },
     "execution_count": 21,
     "metadata": {},
     "output_type": "execute_result"
    }
   ],
   "source": [
    "count1 = t_max / h\n",
    "count1 = int(count1)\n",
    "y = [1]\n",
    "t = [i / count1 for i in range(count1 + 1)]\n",
    "count1"
   ]
  },
  {
   "cell_type": "code",
   "execution_count": 22,
   "metadata": {},
   "outputs": [],
   "source": [
    "for i in range(3):\n",
    "    y.append(np.e ** (t[i + 1] ** 2))"
   ]
  },
  {
   "cell_type": "code",
   "execution_count": 23,
   "metadata": {
    "scrolled": true
   },
   "outputs": [
    {
     "data": {
      "text/plain": [
       "[1, 1.010050167084168, 1.0408107741923882, 1.0941742837052104]"
      ]
     },
     "execution_count": 23,
     "metadata": {},
     "output_type": "execute_result"
    }
   ],
   "source": [
    "y"
   ]
  },
  {
   "cell_type": "code",
   "execution_count": 24,
   "metadata": {},
   "outputs": [],
   "source": [
    "for i in range(3, count1):\n",
    "    y.append(y[i] + h / 24 * (55 * fun(t[i], y[i])\n",
    "    - 59 * fun(t[i - 1], y[i - 1]) + 37 * fun(t[i - 2], y[i - 2]) \n",
    "    - 9 * fun(t[i - 3], y[i - 3])))"
   ]
  },
  {
   "cell_type": "code",
   "execution_count": 25,
   "metadata": {
    "scrolled": false
   },
   "outputs": [
    {
     "name": "stdout",
     "output_type": "stream",
     "text": [
      "1\n",
      "1,010050167084168\n",
      "1,0408107741923882\n",
      "1,0941742837052104\n",
      "1,173420068404187\n",
      "1,2837643289205023\n",
      "1,4327866671418068\n",
      "1,631313823465996\n",
      "1,894732673677622\n",
      "2,244948517536585\n",
      "2,713344762917258\n"
     ]
    }
   ],
   "source": [
    "for i in y:\n",
    "    print(str(i).replace(\".\", \",\"))"
   ]
  },
  {
   "cell_type": "markdown",
   "metadata": {},
   "source": [
    "# Прогноз - коррекция"
   ]
  },
  {
   "cell_type": "markdown",
   "metadata": {},
   "source": [
    "## Прогноз коррекции 3 + Рунге 3"
   ]
  },
  {
   "cell_type": "code",
   "execution_count": 26,
   "metadata": {},
   "outputs": [
    {
     "data": {
      "text/plain": [
       "0.1"
      ]
     },
     "execution_count": 26,
     "metadata": {},
     "output_type": "execute_result"
    }
   ],
   "source": [
    "t_max = 1\n",
    "t_min = 0\n",
    "h = 0.1 # 0.1, 0.05, 0.025\n",
    "h"
   ]
  },
  {
   "cell_type": "code",
   "execution_count": 27,
   "metadata": {},
   "outputs": [
    {
     "data": {
      "text/plain": [
       "10"
      ]
     },
     "execution_count": 27,
     "metadata": {},
     "output_type": "execute_result"
    }
   ],
   "source": [
    "count1 = t_max / h\n",
    "count1 = int(count1)\n",
    "y = [1]\n",
    "t = [i / count1 for i in range(count1 + 1)]\n",
    "count1"
   ]
  },
  {
   "cell_type": "code",
   "execution_count": 28,
   "metadata": {},
   "outputs": [],
   "source": [
    "# Рунге - 3 для двух новых значений\n",
    "k = [0] * 3\n",
    "for i in range(2):\n",
    "    k[0] = fun(t[i], y[i])\n",
    "    k[1] = fun(t[i] + h / 2, y[i] + h / 2 * k[0])\n",
    "    k[2] = fun(t[i] + h, y[i] - h * k[0] + 2 * h * k[1])\n",
    "    y.append(y[i] + h / 6 * (k[0] + 4 * k[1] + k[2]))"
   ]
  },
  {
   "cell_type": "code",
   "execution_count": 29,
   "metadata": {},
   "outputs": [
    {
     "data": {
      "text/plain": [
       "[1, 1.0100666666666667, 1.0408440713777778]"
      ]
     },
     "execution_count": 29,
     "metadata": {},
     "output_type": "execute_result"
    }
   ],
   "source": [
    "y"
   ]
  },
  {
   "cell_type": "code",
   "execution_count": 30,
   "metadata": {},
   "outputs": [],
   "source": [
    "for i in range(2, count1):\n",
    "    y_prog = y[i] + h / 12 * (23 * fun(t[i], y[i]) - \n",
    "    16 * fun(t[i - 1], y[i - 1]) + 5 * fun(t[i - 2], y[i - 2]))\n",
    "    \n",
    "    y_prog = fun(t[i + 1], y_prog)\n",
    "    \n",
    "    y.append(y[i] + h / 12 * (5 * y_prog + 8 * fun(t[i], y[i])\n",
    "    - fun(t[i - 1], y[i - 1])))"
   ]
  },
  {
   "cell_type": "code",
   "execution_count": 31,
   "metadata": {
    "scrolled": true
   },
   "outputs": [
    {
     "name": "stdout",
     "output_type": "stream",
     "text": [
      "1\n",
      "1,0100666666666667\n",
      "1,0408440713777778\n",
      "1,0942591439802147\n",
      "1,173660178966609\n",
      "1,284260262628234\n",
      "1,4336820225674245\n",
      "1,6328345267199003\n",
      "1,8972356075695365\n",
      "2,2490033833175853\n",
      "2,7198718674652667\n"
     ]
    }
   ],
   "source": [
    "for i in y:\n",
    "    print(str(i).replace(\".\", \",\"))"
   ]
  },
  {
   "cell_type": "markdown",
   "metadata": {},
   "source": [
    "## Прогноз коррекции 4 + Рунге 4"
   ]
  },
  {
   "cell_type": "code",
   "execution_count": 32,
   "metadata": {},
   "outputs": [
    {
     "data": {
      "text/plain": [
       "0.1"
      ]
     },
     "execution_count": 32,
     "metadata": {},
     "output_type": "execute_result"
    }
   ],
   "source": [
    "t_max = 1\n",
    "t_min = 0\n",
    "h = 0.1 # 0.1, 0.05, 0.025\n",
    "h"
   ]
  },
  {
   "cell_type": "code",
   "execution_count": 33,
   "metadata": {},
   "outputs": [
    {
     "data": {
      "text/plain": [
       "10"
      ]
     },
     "execution_count": 33,
     "metadata": {},
     "output_type": "execute_result"
    }
   ],
   "source": [
    "count1 = t_max / h\n",
    "count1 = int(count1)\n",
    "y = [1]\n",
    "t = [i / count1 for i in range(count1 + 1)]\n",
    "count1"
   ]
  },
  {
   "cell_type": "code",
   "execution_count": 34,
   "metadata": {},
   "outputs": [],
   "source": [
    "# Рунге - 4 для трех новых значений\n",
    "k = [0] * 4\n",
    "for i in range(3):\n",
    "    k[0] = fun(t[i], y[i])\n",
    "    k[1] = fun(t[i] + h / 2, y[i] + h / 2 * k[0])\n",
    "    k[2] = fun(t[i] + h / 2, y[i] + h / 2 * k[1])\n",
    "    k[3] = fun(t[i] + h, y[i] + h * k[2])\n",
    "    y.append(y[i] + h / 6 * (k[0] + 2 * k[1] + 2 * k[2] + k[3]))"
   ]
  },
  {
   "cell_type": "code",
   "execution_count": 35,
   "metadata": {},
   "outputs": [
    {
     "data": {
      "text/plain": [
       "[1, 1.0100501666666666, 1.0408107697689215, 1.0941742654799747]"
      ]
     },
     "execution_count": 35,
     "metadata": {},
     "output_type": "execute_result"
    }
   ],
   "source": [
    "y"
   ]
  },
  {
   "cell_type": "code",
   "execution_count": 36,
   "metadata": {},
   "outputs": [],
   "source": [
    "for i in range(3, count1):\n",
    "    y_prog = y[i] + h / 24 * (55 * fun(t[i], y[i]) - \n",
    "    59 * fun(t[i - 1], y[i - 1]) + 37 * fun(t[i - 2], y[i - 2])\n",
    "    - 9 * fun(t[i - 3], y[i - 3]))\n",
    "    \n",
    "    y_prog = fun(t[i + 1], y_prog)\n",
    "    \n",
    "    y.append(y[i] + h / 24 * (9 * y_prog + 19 * fun(t[i], y[i])\n",
    "    - 5 * fun(t[i - 1], y[i - 1]) + fun(t[i - 2], y[i - 2])))"
   ]
  },
  {
   "cell_type": "code",
   "execution_count": 37,
   "metadata": {
    "scrolled": true
   },
   "outputs": [
    {
     "name": "stdout",
     "output_type": "stream",
     "text": [
      "1\n",
      "1,0100501666666666\n",
      "1,0408107697689215\n",
      "1,0941742654799747\n",
      "1,1735184299239405\n",
      "1,2840442973345596\n",
      "1,433364614573804\n",
      "1,6323747438551441\n",
      "1,8965725685226835\n",
      "2,2480466040875458\n",
      "2,7184863524994936\n"
     ]
    }
   ],
   "source": [
    "for i in y:\n",
    "    print(str(i).replace(\".\", \",\"))"
   ]
  },
  {
   "cell_type": "markdown",
   "metadata": {},
   "source": [
    "## Прогноз коррекции 3 с 3 - его значения сетки"
   ]
  },
  {
   "cell_type": "code",
   "execution_count": 38,
   "metadata": {},
   "outputs": [
    {
     "data": {
      "text/plain": [
       "0.025"
      ]
     },
     "execution_count": 38,
     "metadata": {},
     "output_type": "execute_result"
    }
   ],
   "source": [
    "t_max = 1\n",
    "t_min = 0\n",
    "h = 0.025 # 0.1, 0.05, 0.025\n",
    "h"
   ]
  },
  {
   "cell_type": "code",
   "execution_count": 39,
   "metadata": {},
   "outputs": [
    {
     "data": {
      "text/plain": [
       "40"
      ]
     },
     "execution_count": 39,
     "metadata": {},
     "output_type": "execute_result"
    }
   ],
   "source": [
    "count1 = t_max / h\n",
    "count1 = int(count1)\n",
    "y = [1]\n",
    "t = [i / count1 for i in range(count1 + 1)]\n",
    "count1"
   ]
  },
  {
   "cell_type": "code",
   "execution_count": 40,
   "metadata": {},
   "outputs": [],
   "source": [
    "import numpy as np\n",
    "for i in range(2):\n",
    "    y.append(np.e ** (t[i + 1] ** 2))"
   ]
  },
  {
   "cell_type": "code",
   "execution_count": 41,
   "metadata": {
    "scrolled": true
   },
   "outputs": [
    {
     "data": {
      "text/plain": [
       "[1, 1.0006251953531964, 1.0025031276057952]"
      ]
     },
     "execution_count": 41,
     "metadata": {},
     "output_type": "execute_result"
    }
   ],
   "source": [
    "y"
   ]
  },
  {
   "cell_type": "code",
   "execution_count": 42,
   "metadata": {},
   "outputs": [],
   "source": [
    "for i in range(2, count1):\n",
    "    y_prog = y[i] + h / 12 * (23 * fun(t[i], y[i]) - \n",
    "    16 * fun(t[i - 1], y[i - 1]) + 5 * fun(t[i - 2], y[i - 2]))\n",
    "    \n",
    "    y_prog = fun(t[i + 1], y_prog)\n",
    "    \n",
    "    y.append(y[i] + h / 12 * (5 * y_prog + 8 * fun(t[i], y[i])\n",
    "    - fun(t[i - 1], y[i - 1])))"
   ]
  },
  {
   "cell_type": "code",
   "execution_count": 43,
   "metadata": {
    "scrolled": true
   },
   "outputs": [
    {
     "name": "stdout",
     "output_type": "stream",
     "text": [
      "1\n",
      "1,0006251953531964\n",
      "1,0025031276057952\n",
      "1,0056410454227576\n",
      "1,010050561077023\n",
      "1,0157483060610837\n",
      "1,0227558417943385\n",
      "1,0310997956452765\n",
      "1,0408120296267962\n",
      "1,0519298432395978\n",
      "1,0644962122723363\n",
      "1,0785600656994305\n",
      "1,0941766031745157\n",
      "1,1114076560035946\n",
      "1,1303220949016972\n",
      "1,1509962882954774\n",
      "1,1735146154374052\n",
      "1,1979700391514478\n",
      "1,2244647436425053\n",
      "1,253110843480363\n",
      "1,2840311706225316\n",
      "1,317360147179145\n",
      "1,353244752558488\n",
      "1,391845594676572\n",
      "1,4333380960830413\n",
      "1,4779138071650466\n",
      "1,5257818600592619\n",
      "1,5771705785511863\n",
      "1,6323292610943776\n",
      "1,69153015616776\n",
      "1,7550706515378875\n",
      "1,8232757016406513\n",
      "1,8965005202840035\n",
      "1,975133569246223\n",
      "2,0595998771560406\n",
      "2,1503647273521476\n",
      "2,2479377582995452\n",
      "2,3528775256682026\n",
      "2,4657965814465306\n",
      "2,5873671325725422\n",
      "2,718327349638929\n"
     ]
    }
   ],
   "source": [
    "for i in y:\n",
    "    print(str(i).replace(\".\", \",\"))"
   ]
  },
  {
   "cell_type": "markdown",
   "metadata": {},
   "source": [
    "## Прогноз коррекции 4 с 4 - ого значения сетки"
   ]
  },
  {
   "cell_type": "code",
   "execution_count": 44,
   "metadata": {},
   "outputs": [
    {
     "data": {
      "text/plain": [
       "0.1"
      ]
     },
     "execution_count": 44,
     "metadata": {},
     "output_type": "execute_result"
    }
   ],
   "source": [
    "t_max = 1\n",
    "t_min = 0\n",
    "h = 0.1 # 0.1, 0.05, 0.025\n",
    "h"
   ]
  },
  {
   "cell_type": "code",
   "execution_count": 45,
   "metadata": {},
   "outputs": [
    {
     "data": {
      "text/plain": [
       "10"
      ]
     },
     "execution_count": 45,
     "metadata": {},
     "output_type": "execute_result"
    }
   ],
   "source": [
    "count1 = t_max / h\n",
    "count1 = int(count1)\n",
    "y = [1]\n",
    "t = [i / count1 for i in range(count1 + 1)]\n",
    "count1"
   ]
  },
  {
   "cell_type": "code",
   "execution_count": 46,
   "metadata": {},
   "outputs": [],
   "source": [
    "for i in range(3):\n",
    "    y.append(np.e ** (t[i + 1] ** 2))"
   ]
  },
  {
   "cell_type": "code",
   "execution_count": 47,
   "metadata": {
    "scrolled": true
   },
   "outputs": [
    {
     "data": {
      "text/plain": [
       "[1, 1.010050167084168, 1.0408107741923882, 1.0941742837052104]"
      ]
     },
     "execution_count": 47,
     "metadata": {},
     "output_type": "execute_result"
    }
   ],
   "source": [
    "y"
   ]
  },
  {
   "cell_type": "code",
   "execution_count": 48,
   "metadata": {},
   "outputs": [],
   "source": [
    "for i in range(3, count1):\n",
    "    y_prog = y[i] + h / 24 * (55 * fun(t[i], y[i]) - \n",
    "    59 * fun(t[i - 1], y[i - 1]) + 37 * fun(t[i - 2], y[i - 2])\n",
    "    - 9 * fun(t[i - 3], y[i - 3]))\n",
    "    \n",
    "    y_prog = fun(t[i + 1], y_prog)\n",
    "    \n",
    "    y.append(y[i] + h / 24 * (9 * y_prog + 19 * fun(t[i], y[i])\n",
    "    - 5 * fun(t[i - 1], y[i - 1]) + fun(t[i - 2], y[i - 2])))"
   ]
  },
  {
   "cell_type": "code",
   "execution_count": 49,
   "metadata": {
    "scrolled": true
   },
   "outputs": [
    {
     "name": "stdout",
     "output_type": "stream",
     "text": [
      "1\n",
      "1,010050167084168\n",
      "1,0408107741923882\n",
      "1,0941742837052104\n",
      "1,1735184495876338\n",
      "1,2840443188050572\n",
      "1,433364638548324\n",
      "1,6323747711589722\n",
      "1,8965726002454701\n",
      "2,2480466416892226\n",
      "2,7184863979699276\n"
     ]
    }
   ],
   "source": [
    "for i in y:\n",
    "    print(str(i).replace(\".\", \",\"))"
   ]
  },
  {
   "cell_type": "markdown",
   "metadata": {},
   "source": [
    "## Адамс - Моултон 3 с 3 - его значения сетки"
   ]
  },
  {
   "cell_type": "code",
   "execution_count": 161,
   "metadata": {},
   "outputs": [
    {
     "data": {
      "text/plain": [
       "0.1"
      ]
     },
     "execution_count": 161,
     "metadata": {},
     "output_type": "execute_result"
    }
   ],
   "source": [
    "t_max = 1\n",
    "t_min = 0\n",
    "h = 0.1 # 0.1, 0.05, 0.025\n",
    "h"
   ]
  },
  {
   "cell_type": "code",
   "execution_count": 162,
   "metadata": {},
   "outputs": [
    {
     "data": {
      "text/plain": [
       "10"
      ]
     },
     "execution_count": 162,
     "metadata": {},
     "output_type": "execute_result"
    }
   ],
   "source": [
    "count1 = t_max / h\n",
    "count1 = int(count1)\n",
    "y = [[0] for i in range(count1 + 1)]\n",
    "y[0] = 1\n",
    "t = [i / count1 for i in range(count1 + 1)]\n",
    "count1"
   ]
  },
  {
   "cell_type": "code",
   "execution_count": 163,
   "metadata": {},
   "outputs": [
    {
     "data": {
      "text/plain": [
       "[1, [0], [0], [0], [0], [0], [0], [0], [0], [0], [0]]"
      ]
     },
     "execution_count": 163,
     "metadata": {},
     "output_type": "execute_result"
    }
   ],
   "source": [
    "y"
   ]
  },
  {
   "cell_type": "code",
   "execution_count": 164,
   "metadata": {},
   "outputs": [],
   "source": [
    "for i in range(2):\n",
    "    y[i + 1] = np.e ** (t[i + 1] ** 2)"
   ]
  },
  {
   "cell_type": "code",
   "execution_count": 165,
   "metadata": {},
   "outputs": [
    {
     "data": {
      "text/plain": [
       "[1,\n",
       " 1.010050167084168,\n",
       " 1.0408107741923882,\n",
       " [0],\n",
       " [0],\n",
       " [0],\n",
       " [0],\n",
       " [0],\n",
       " [0],\n",
       " [0],\n",
       " [0]]"
      ]
     },
     "execution_count": 165,
     "metadata": {},
     "output_type": "execute_result"
    }
   ],
   "source": [
    "y"
   ]
  },
  {
   "cell_type": "code",
   "execution_count": 166,
   "metadata": {},
   "outputs": [
    {
     "name": "stdout",
     "output_type": "stream",
     "text": [
      "1.0936715957582268\n",
      "1.1729828455036644\n",
      "1.2834294971122098\n",
      "1.432619249722338\n",
      "1.6314334303256308\n",
      "1.8953491125671587\n",
      "2.246424731666518\n",
      "2.716307838271703\n"
     ]
    }
   ],
   "source": [
    "eps = 1e-12\n",
    "for i in range(2, count1):\n",
    "    k = 0\n",
    "    # начальный прогноз - явный Адамс 3\n",
    "    y[i + 1][0] = y[i] + h / 12 * (23 * fun(t[i], y[i]) \n",
    "    - 16 * fun(t[i - 1], y[i - 1]) + 5 * fun(t[i - 2], y[i - 2]))\n",
    "    \n",
    "    print(y[i + 1][0])\n",
    "    y[i + 1].append(y[i] + h / 12 * (5 * fun(t[i + 1], y[i + 1][k])\n",
    "    + 8 * fun(t[i], y[i]) - fun(t[i - 1], y[i - 1])))\n",
    "    \n",
    "    while abs(y[i + 1][k + 1] - y[i + 1][k]) > eps:\n",
    "        k += 1\n",
    "        y[i + 1].append(y[i] + h / 12 * (5 * fun(t[i + 1], y[i + 1][k])\n",
    "    + 8 * fun(t[i], y[i]) - fun(t[i - 1], y[i - 1])))\n",
    "    y[i + 1] = y[i + 1][k]"
   ]
  },
  {
   "cell_type": "code",
   "execution_count": 167,
   "metadata": {
    "scrolled": true
   },
   "outputs": [
    {
     "name": "stdout",
     "output_type": "stream",
     "text": [
      "1\n",
      "1,010050167084168\n",
      "1,0408107741923882\n",
      "1,0942382679236684\n",
      "1,1736604441990435\n",
      "1,2842968450955057\n",
      "1,433781296638263\n",
      "1,6330421168070708\n",
      "1,897630251509126\n",
      "2,24972106699869\n",
      "2,7211482091100554\n"
     ]
    }
   ],
   "source": [
    "for i in y:\n",
    "    print(str(i).replace(\".\", \",\"))"
   ]
  },
  {
   "cell_type": "markdown",
   "metadata": {},
   "source": [
    "## Адамс - Моултон 4, с 4 - го значения сетки"
   ]
  },
  {
   "cell_type": "code",
   "execution_count": 235,
   "metadata": {},
   "outputs": [
    {
     "data": {
      "text/plain": [
       "0.1"
      ]
     },
     "execution_count": 235,
     "metadata": {},
     "output_type": "execute_result"
    }
   ],
   "source": [
    "t_max = 1\n",
    "t_min = 0\n",
    "h = 0.1 # 0.1, 0.05, 0.025\n",
    "h"
   ]
  },
  {
   "cell_type": "code",
   "execution_count": 236,
   "metadata": {},
   "outputs": [
    {
     "data": {
      "text/plain": [
       "10"
      ]
     },
     "execution_count": 236,
     "metadata": {},
     "output_type": "execute_result"
    }
   ],
   "source": [
    "count1 = t_max / h\n",
    "count1 = int(count1)\n",
    "y = [[0] for i in range(count1 + 1)]\n",
    "y[0] = 1\n",
    "t = [i / count1 for i in range(count1 + 1)]\n",
    "count1"
   ]
  },
  {
   "cell_type": "code",
   "execution_count": 237,
   "metadata": {},
   "outputs": [
    {
     "data": {
      "text/plain": [
       "[1, [0], [0], [0], [0], [0], [0], [0], [0], [0], [0]]"
      ]
     },
     "execution_count": 237,
     "metadata": {},
     "output_type": "execute_result"
    }
   ],
   "source": [
    "y"
   ]
  },
  {
   "cell_type": "code",
   "execution_count": 238,
   "metadata": {},
   "outputs": [],
   "source": [
    "for i in range(3):\n",
    "    y[i + 1] = np.e ** (t[i + 1] ** 2)"
   ]
  },
  {
   "cell_type": "code",
   "execution_count": 239,
   "metadata": {},
   "outputs": [
    {
     "data": {
      "text/plain": [
       "[1,\n",
       " 1.010050167084168,\n",
       " 1.0408107741923882,\n",
       " 1.0941742837052104,\n",
       " [0],\n",
       " [0],\n",
       " [0],\n",
       " [0],\n",
       " [0],\n",
       " [0],\n",
       " [0]]"
      ]
     },
     "execution_count": 239,
     "metadata": {},
     "output_type": "execute_result"
    }
   ],
   "source": [
    "y"
   ]
  },
  {
   "cell_type": "code",
   "execution_count": 240,
   "metadata": {},
   "outputs": [],
   "source": [
    "eps = 1e-12\n",
    "for i in range(3, count1):\n",
    "    k = 0\n",
    "    \n",
    "    y[i + 1][0] = y[i] + h / 24 * (55 * fun(t[i], y[i]) \n",
    "    - 59 * fun(t[i - 1], y[i - 1]) + 37 * fun(t[i - 2], y[i - 2])\n",
    "                                  - 9 * fun(y[i - 3], y[i - 3]))\n",
    "    y[i + 1].append(y[i] + h / 24 * (9 * fun(t[i + 1], y[i + 1][k]) \n",
    "    + 19 * fun(t[i], y[i]) - 5 * fun(t[i - 1], y[i - 1]) \n",
    "                                     + fun(t[i - 2], y[i - 2])))\n",
    "    \n",
    "    while abs(y[i + 1][k + 1] - y[i + 1][k]) > eps:\n",
    "        k += 1\n",
    "        y[i + 1].append(y[i] + h / 24 * (9 * fun(t[i + 1], y[i + 1][k]) \n",
    "        + 19 * fun(t[i], y[i]) - 5 * fun(t[i - 1], y[i - 1]) \n",
    "                                     + fun(t[i - 2], y[i - 2])))\n",
    "    y[i + 1] = y[i + 1][k]"
   ]
  },
  {
   "cell_type": "code",
   "execution_count": 241,
   "metadata": {
    "scrolled": true
   },
   "outputs": [
    {
     "name": "stdout",
     "output_type": "stream",
     "text": [
      "1\n",
      "1,010050167084168\n",
      "1,0408107741923882\n",
      "1,0941742837052104\n",
      "1,1735214923045982\n",
      "1,2840540532235167\n",
      "1,4333875147726185\n",
      "1,6324221011870055\n",
      "1,89666427810677\n",
      "2,2482177440100766\n",
      "2,7187990185777338\n"
     ]
    }
   ],
   "source": [
    "for i in y:\n",
    "    print(str(i).replace(\".\", \",\"))"
   ]
  }
 ],
 "metadata": {
  "kernelspec": {
   "display_name": "Python 3",
   "language": "python",
   "name": "python3"
  },
  "language_info": {
   "codemirror_mode": {
    "name": "ipython",
    "version": 3
   },
   "file_extension": ".py",
   "mimetype": "text/x-python",
   "name": "python",
   "nbconvert_exporter": "python",
   "pygments_lexer": "ipython3",
   "version": "3.7.3"
  }
 },
 "nbformat": 4,
 "nbformat_minor": 2
}

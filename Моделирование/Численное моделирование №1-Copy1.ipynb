{
 "cells": [
  {
   "cell_type": "code",
   "execution_count": 15,
   "metadata": {},
   "outputs": [],
   "source": [
    "def f(t, y):\n",
    "    return 2 * t * y"
   ]
  },
  {
   "cell_type": "code",
   "execution_count": 16,
   "metadata": {},
   "outputs": [
    {
     "data": {
      "text/plain": [
       "0.1"
      ]
     },
     "execution_count": 16,
     "metadata": {},
     "output_type": "execute_result"
    }
   ],
   "source": [
    "t_min = 0\n",
    "t_max = 1\n",
    "h = 0.1\n",
    "h"
   ]
  },
  {
   "cell_type": "code",
   "execution_count": null,
   "metadata": {},
   "outputs": [],
   "source": []
  },
  {
   "cell_type": "code",
   "execution_count": 17,
   "metadata": {},
   "outputs": [],
   "source": [
    "count = t_max / h\n",
    "count = int(count)\n",
    "y = [0] * (count + 1)\n",
    "y[0] = 1\n",
    "t = [0] * (count + 1)\n",
    "t = [i / count for i in range(count + 1)]"
   ]
  },
  {
   "cell_type": "code",
   "execution_count": 18,
   "metadata": {
    "scrolled": true
   },
   "outputs": [
    {
     "data": {
      "text/plain": [
       "[0.0, 0.1, 0.2, 0.3, 0.4, 0.5, 0.6, 0.7, 0.8, 0.9, 1.0]"
      ]
     },
     "execution_count": 18,
     "metadata": {},
     "output_type": "execute_result"
    }
   ],
   "source": [
    "t"
   ]
  },
  {
   "cell_type": "code",
   "execution_count": 19,
   "metadata": {},
   "outputs": [],
   "source": [
    "def Eiler1(count, h, t, y):\n",
    "    for i in range(count):\n",
    "        y[i + 1] = y[i] + h * f(t[i], y[i])\n",
    "    return y"
   ]
  },
  {
   "cell_type": "code",
   "execution_count": 20,
   "metadata": {
    "scrolled": true
   },
   "outputs": [
    {
     "name": "stdout",
     "output_type": "stream",
     "text": [
      "0.000  ---  1.000000000000000\n",
      "0.100  ---  1.000000000000000\n",
      "0.200  ---  1.020000000000000\n",
      "0.300  ---  1.060800000000000\n",
      "0.400  ---  1.124448000000000\n",
      "0.500  ---  1.214403840000000\n",
      "0.600  ---  1.335844224000000\n",
      "0.700  ---  1.496145530880000\n",
      "0.800  ---  1.705605905203200\n",
      "0.900  ---  1.978502850035712\n",
      "1.000  ---  2.334633363042140\n"
     ]
    }
   ],
   "source": [
    "y = Eiler1(count, h, t, y)\n",
    "\n",
    "for i in range(count + 1):\n",
    "    print(\"{:.3f}\".format(t[i]), \" --- \", '{0:.15f}'.format(y[i]))"
   ]
  },
  {
   "cell_type": "code",
   "execution_count": 21,
   "metadata": {
    "scrolled": true
   },
   "outputs": [
    {
     "name": "stdout",
     "output_type": "stream",
     "text": [
      "1,000000000000000\n",
      "1,000000000000000\n",
      "1,020000000000000\n",
      "1,060800000000000\n",
      "1,124448000000000\n",
      "1,214403840000000\n",
      "1,335844224000000\n",
      "1,496145530880000\n",
      "1,705605905203200\n",
      "1,978502850035712\n",
      "2,334633363042140\n"
     ]
    }
   ],
   "source": [
    "for i in range(count + 1):\n",
    "    print('{0:.15f}'.format(y[i]).replace('.', ','))"
   ]
  },
  {
   "cell_type": "code",
   "execution_count": 22,
   "metadata": {},
   "outputs": [],
   "source": [
    "def Eiler2(count, h, t, y):\n",
    "    for i in range(count):\n",
    "        y[i + 1] = y[i] + h / 2 * (f(t[i], y[i]) + f(t[i + 1], y[i] + h * f(t[i], y[i])))\n",
    "    return y"
   ]
  },
  {
   "cell_type": "code",
   "execution_count": 23,
   "metadata": {
    "scrolled": true
   },
   "outputs": [
    {
     "name": "stdout",
     "output_type": "stream",
     "text": [
      "0.000  ---  1.000000000000000\n",
      "0.100  ---  1.010000000000000\n",
      "0.200  ---  1.040704000000000\n",
      "0.300  ---  1.093988044800000\n",
      "0.400  ---  1.173192779243520\n",
      "0.500  ---  1.283472900492411\n",
      "0.600  ---  1.432355756949531\n",
      "0.700  ---  1.630593793711346\n",
      "0.800  ---  1.893445513257615\n",
      "0.900  ---  2.242596865902319\n",
      "1.000  ---  2.709057014010002\n"
     ]
    }
   ],
   "source": [
    "y = Eiler2(count, h, t, y)\n",
    "\n",
    "for i in range(count + 1):\n",
    "    print(\"{:.3f}\".format(t[i]), \" --- \", '{0:.15f}'.format(y[i]))"
   ]
  },
  {
   "cell_type": "code",
   "execution_count": 24,
   "metadata": {
    "scrolled": true
   },
   "outputs": [
    {
     "name": "stdout",
     "output_type": "stream",
     "text": [
      "1,000000000000000\n",
      "1,010000000000000\n",
      "1,040704000000000\n",
      "1,093988044800000\n",
      "1,173192779243520\n",
      "1,283472900492411\n",
      "1,432355756949531\n",
      "1,630593793711346\n",
      "1,893445513257615\n",
      "2,242596865902319\n",
      "2,709057014010002\n"
     ]
    }
   ],
   "source": [
    "for i in range(count + 1):\n",
    "    print('{0:.15f}'.format(y[i]).replace('.', ','))"
   ]
  },
  {
   "cell_type": "code",
   "execution_count": 25,
   "metadata": {},
   "outputs": [],
   "source": [
    "def Eiler3(count, h, t, y):\n",
    "    for i in range(count):\n",
    "        y[i + 1] = y[i] + h * f(t[i] + h / 2, y[i] + h / 2 * f(t[i], y[i]))\n",
    "    return y"
   ]
  },
  {
   "cell_type": "code",
   "execution_count": 26,
   "metadata": {
    "scrolled": true
   },
   "outputs": [
    {
     "name": "stdout",
     "output_type": "stream",
     "text": [
      "0.000  ---  1.000000000000000\n",
      "0.100  ---  1.010000000000000\n",
      "0.200  ---  1.040603000000000\n",
      "0.300  ---  1.093673753000000\n",
      "0.400  ---  1.172527630591300\n",
      "0.500  ---  1.282276216814646\n",
      "0.600  ---  1.430379119856737\n",
      "0.700  ---  1.627485362572995\n",
      "0.800  ---  1.888696763265961\n",
      "0.900  ---  2.235461489001592\n",
      "1.000  ---  2.698425563373822\n"
     ]
    }
   ],
   "source": [
    "y = Eiler3(count, h, t, y)\n",
    "\n",
    "for i in range(count + 1):\n",
    "    print(\"{:.3f}\".format(t[i]), \" --- \", '{0:.15f}'.format(y[i]))"
   ]
  },
  {
   "cell_type": "code",
   "execution_count": 27,
   "metadata": {
    "scrolled": false
   },
   "outputs": [
    {
     "name": "stdout",
     "output_type": "stream",
     "text": [
      "1,000000000000000\n",
      "1,010000000000000\n",
      "1,040603000000000\n",
      "1,093673753000000\n",
      "1,172527630591300\n",
      "1,282276216814646\n",
      "1,430379119856737\n",
      "1,627485362572995\n",
      "1,888696763265961\n",
      "2,235461489001592\n",
      "2,698425563373822\n"
     ]
    }
   ],
   "source": [
    "for i in range(count + 1):\n",
    "    print('{0:.15f}'.format(y[i]).replace('.', ','))"
   ]
  },
  {
   "cell_type": "code",
   "execution_count": null,
   "metadata": {},
   "outputs": [],
   "source": []
  },
  {
   "cell_type": "code",
   "execution_count": null,
   "metadata": {},
   "outputs": [],
   "source": []
  },
  {
   "cell_type": "code",
   "execution_count": 28,
   "metadata": {},
   "outputs": [],
   "source": [
    "def fore(x, y):\n",
    "    return y, x"
   ]
  },
  {
   "cell_type": "code",
   "execution_count": null,
   "metadata": {},
   "outputs": [],
   "source": [
    "lis"
   ]
  }
 ],
 "metadata": {
  "kernelspec": {
   "display_name": "Python 3",
   "language": "python",
   "name": "python3"
  },
  "language_info": {
   "codemirror_mode": {
    "name": "ipython",
    "version": 3
   },
   "file_extension": ".py",
   "mimetype": "text/x-python",
   "name": "python",
   "nbconvert_exporter": "python",
   "pygments_lexer": "ipython3",
   "version": "3.7.3"
  }
 },
 "nbformat": 4,
 "nbformat_minor": 2
}
